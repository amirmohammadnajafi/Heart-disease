{
 "cells": [
  {
   "cell_type": "code",
   "execution_count": null,
   "id": "8b48b1c7-bfc8-4a06-9d10-3b9911e96d97",
   "metadata": {},
   "outputs": [],
   "source": [
    "library(dplyr)\n",
    "library(gRbase)\n",
    "library(RGraphics) \n",
    "library(gRain)\n",
    "library(bnlearn)\n",
    "library(igraph)\n",
    "library(tidyr)\n",
    "library(graph)\n",
    "library(bnstruct)\n",
    "library(deal)\n",
    "library(pcalg)\n",
    "library(bnviewer)"
   ]
  },
  {
   "cell_type": "code",
   "execution_count": 15,
   "id": "424163aa-c2f1-4c91-b7ec-bb07ba9f5c95",
   "metadata": {},
   "outputs": [],
   "source": [
    "data=read.csv(\"D:/heart.csv\")"
   ]
  },
  {
   "cell_type": "code",
   "execution_count": 4,
   "id": "f68ec906-4cd5-4c30-916b-9beee7fe29a0",
   "metadata": {},
   "outputs": [
    {
     "data": {
      "text/html": [
       "<pre class=language-r><code>function (..., list = character(), package = NULL, lib.loc = NULL, \n",
       "<span style=white-space:pre-wrap>    verbose = getOption(\"verbose\"), envir = .GlobalEnv, overwrite = TRUE) </span>\n",
       "{\n",
       "<span style=white-space:pre-wrap>    fileExt &lt;- function(x) {</span>\n",
       "<span style=white-space:pre-wrap>        db &lt;- grepl(\"\\\\.[^.]+\\\\.(gz|bz2|xz)$\", x)</span>\n",
       "<span style=white-space:pre-wrap>        ans &lt;- sub(\".*\\\\.\", \"\", x)</span>\n",
       "<span style=white-space:pre-wrap>        ans[db] &lt;- sub(\".*\\\\.([^.]+\\\\.)(gz|bz2|xz)$\", \"\\\\1\\\\2\", </span>\n",
       "<span style=white-space:pre-wrap>            x[db])</span>\n",
       "<span style=white-space:pre-wrap>        ans</span>\n",
       "<span style=white-space:pre-wrap>    }</span>\n",
       "<span style=white-space:pre-wrap>    my_read_table &lt;- function(...) {</span>\n",
       "<span style=white-space:pre-wrap>        lcc &lt;- Sys.getlocale(\"LC_COLLATE\")</span>\n",
       "<span style=white-space:pre-wrap>        on.exit(Sys.setlocale(\"LC_COLLATE\", lcc))</span>\n",
       "<span style=white-space:pre-wrap>        Sys.setlocale(\"LC_COLLATE\", \"C\")</span>\n",
       "<span style=white-space:pre-wrap>        read.table(...)</span>\n",
       "<span style=white-space:pre-wrap>    }</span>\n",
       "<span style=white-space:pre-wrap>    stopifnot(is.character(list))</span>\n",
       "<span style=white-space:pre-wrap>    names &lt;- c(as.character(substitute(list(...))[-1L]), list)</span>\n",
       "<span style=white-space:pre-wrap>    if (!is.null(package)) {</span>\n",
       "<span style=white-space:pre-wrap>        if (!is.character(package)) </span>\n",
       "<span style=white-space:pre-wrap>            stop(\"'package' must be a character vector or NULL\")</span>\n",
       "<span style=white-space:pre-wrap>    }</span>\n",
       "<span style=white-space:pre-wrap>    paths &lt;- find.package(package, lib.loc, verbose = verbose)</span>\n",
       "<span style=white-space:pre-wrap>    if (is.null(lib.loc)) </span>\n",
       "<span style=white-space:pre-wrap>        paths &lt;- c(path.package(package, TRUE), if (!length(package)) getwd(), </span>\n",
       "<span style=white-space:pre-wrap>            paths)</span>\n",
       "<span style=white-space:pre-wrap>    paths &lt;- unique(normalizePath(paths[file.exists(paths)]))</span>\n",
       "<span style=white-space:pre-wrap>    paths &lt;- paths[dir.exists(file.path(paths, \"data\"))]</span>\n",
       "<span style=white-space:pre-wrap>    dataExts &lt;- tools:::.make_file_exts(\"data\")</span>\n",
       "<span style=white-space:pre-wrap>    if (length(names) == 0L) {</span>\n",
       "<span style=white-space:pre-wrap>        db &lt;- matrix(character(), nrow = 0L, ncol = 4L)</span>\n",
       "<span style=white-space:pre-wrap>        for (path in paths) {</span>\n",
       "<span style=white-space:pre-wrap>            entries &lt;- NULL</span>\n",
       "<span style=white-space:pre-wrap>            packageName &lt;- if (file_test(\"-f\", file.path(path, </span>\n",
       "<span style=white-space:pre-wrap>                \"DESCRIPTION\"))) </span>\n",
       "<span style=white-space:pre-wrap>                basename(path)</span>\n",
       "<span style=white-space:pre-wrap>            else \".\"</span>\n",
       "<span style=white-space:pre-wrap>            if (file_test(\"-f\", INDEX &lt;- file.path(path, \"Meta\", </span>\n",
       "<span style=white-space:pre-wrap>                \"data.rds\"))) {</span>\n",
       "<span style=white-space:pre-wrap>                entries &lt;- readRDS(INDEX)</span>\n",
       "<span style=white-space:pre-wrap>            }</span>\n",
       "<span style=white-space:pre-wrap>            else {</span>\n",
       "<span style=white-space:pre-wrap>                dataDir &lt;- file.path(path, \"data\")</span>\n",
       "<span style=white-space:pre-wrap>                entries &lt;- tools::list_files_with_type(dataDir, </span>\n",
       "<span style=white-space:pre-wrap>                  \"data\")</span>\n",
       "<span style=white-space:pre-wrap>                if (length(entries)) {</span>\n",
       "<span style=white-space:pre-wrap>                  entries &lt;- unique(tools::file_path_sans_ext(basename(entries)))</span>\n",
       "<span style=white-space:pre-wrap>                  entries &lt;- cbind(entries, \"\")</span>\n",
       "<span style=white-space:pre-wrap>                }</span>\n",
       "<span style=white-space:pre-wrap>            }</span>\n",
       "<span style=white-space:pre-wrap>            if (NROW(entries)) {</span>\n",
       "<span style=white-space:pre-wrap>                if (is.matrix(entries) &amp;&amp; ncol(entries) == 2L) </span>\n",
       "<span style=white-space:pre-wrap>                  db &lt;- rbind(db, cbind(packageName, dirname(path), </span>\n",
       "<span style=white-space:pre-wrap>                    entries))</span>\n",
       "<span style=white-space:pre-wrap>                else warning(gettextf(\"data index for package %s is invalid and will be ignored\", </span>\n",
       "<span style=white-space:pre-wrap>                  sQuote(packageName)), domain = NA, call. = FALSE)</span>\n",
       "<span style=white-space:pre-wrap>            }</span>\n",
       "<span style=white-space:pre-wrap>        }</span>\n",
       "<span style=white-space:pre-wrap>        colnames(db) &lt;- c(\"Package\", \"LibPath\", \"Item\", \"Title\")</span>\n",
       "<span style=white-space:pre-wrap>        footer &lt;- if (missing(package)) </span>\n",
       "<span style=white-space:pre-wrap>            paste0(\"Use \", sQuote(paste(\"data(package =\", \".packages(all.available = TRUE))\")), </span>\n",
       "<span style=white-space:pre-wrap>                \"\\n\", \"to list the data sets in all *available* packages.\")</span>\n",
       "<span style=white-space:pre-wrap>        else NULL</span>\n",
       "<span style=white-space:pre-wrap>        y &lt;- list(title = \"Data sets\", header = NULL, results = db, </span>\n",
       "<span style=white-space:pre-wrap>            footer = footer)</span>\n",
       "<span style=white-space:pre-wrap>        class(y) &lt;- \"packageIQR\"</span>\n",
       "<span style=white-space:pre-wrap>        return(y)</span>\n",
       "<span style=white-space:pre-wrap>    }</span>\n",
       "<span style=white-space:pre-wrap>    paths &lt;- file.path(paths, \"data\")</span>\n",
       "<span style=white-space:pre-wrap>    for (name in names) {</span>\n",
       "<span style=white-space:pre-wrap>        found &lt;- FALSE</span>\n",
       "<span style=white-space:pre-wrap>        for (p in paths) {</span>\n",
       "<span style=white-space:pre-wrap>            tmp_env &lt;- if (overwrite) </span>\n",
       "<span style=white-space:pre-wrap>                envir</span>\n",
       "<span style=white-space:pre-wrap>            else new.env()</span>\n",
       "<span style=white-space:pre-wrap>            if (file_test(\"-f\", file.path(p, \"Rdata.rds\"))) {</span>\n",
       "<span style=white-space:pre-wrap>                rds &lt;- readRDS(file.path(p, \"Rdata.rds\"))</span>\n",
       "<span style=white-space:pre-wrap>                if (name %in% names(rds)) {</span>\n",
       "<span style=white-space:pre-wrap>                  found &lt;- TRUE</span>\n",
       "<span style=white-space:pre-wrap>                  if (verbose) </span>\n",
       "<span style=white-space:pre-wrap>                    message(sprintf(\"name=%s:\\t found in Rdata.rds\", </span>\n",
       "<span style=white-space:pre-wrap>                      name), domain = NA)</span>\n",
       "<span style=white-space:pre-wrap>                  thispkg &lt;- sub(\".*/([^/]*)/data$\", \"\\\\1\", p)</span>\n",
       "<span style=white-space:pre-wrap>                  thispkg &lt;- sub(\"_.*$\", \"\", thispkg)</span>\n",
       "<span style=white-space:pre-wrap>                  thispkg &lt;- paste0(\"package:\", thispkg)</span>\n",
       "<span style=white-space:pre-wrap>                  objs &lt;- rds[[name]]</span>\n",
       "<span style=white-space:pre-wrap>                  lazyLoad(file.path(p, \"Rdata\"), envir = tmp_env, </span>\n",
       "<span style=white-space:pre-wrap>                    filter = function(x) x %in% objs)</span>\n",
       "<span style=white-space:pre-wrap>                  break</span>\n",
       "<span style=white-space:pre-wrap>                }</span>\n",
       "<span style=white-space:pre-wrap>                else if (verbose) </span>\n",
       "<span style=white-space:pre-wrap>                  message(sprintf(\"name=%s:\\t NOT found in names() of Rdata.rds, i.e.,\\n\\t%s\\n\", </span>\n",
       "<span style=white-space:pre-wrap>                    name, paste(names(rds), collapse = \",\")), </span>\n",
       "<span style=white-space:pre-wrap>                    domain = NA)</span>\n",
       "<span style=white-space:pre-wrap>            }</span>\n",
       "<span style=white-space:pre-wrap>            files &lt;- list.files(p, full.names = TRUE)</span>\n",
       "<span style=white-space:pre-wrap>            files &lt;- files[grep(name, files, fixed = TRUE)]</span>\n",
       "<span style=white-space:pre-wrap>            if (length(files) &gt; 1L) {</span>\n",
       "<span style=white-space:pre-wrap>                o &lt;- match(fileExt(files), dataExts, nomatch = 100L)</span>\n",
       "<span style=white-space:pre-wrap>                paths0 &lt;- dirname(files)</span>\n",
       "<span style=white-space:pre-wrap>                paths0 &lt;- factor(paths0, levels = unique(paths0))</span>\n",
       "<span style=white-space:pre-wrap>                files &lt;- files[order(paths0, o)]</span>\n",
       "<span style=white-space:pre-wrap>            }</span>\n",
       "<span style=white-space:pre-wrap>            if (length(files)) {</span>\n",
       "<span style=white-space:pre-wrap>                for (file in files) {</span>\n",
       "<span style=white-space:pre-wrap>                  if (verbose) </span>\n",
       "<span style=white-space:pre-wrap>                    message(\"name=\", name, \":\\t file= ...\", .Platform$file.sep, </span>\n",
       "<span style=white-space:pre-wrap>                      basename(file), \"::\\t\", appendLF = FALSE, </span>\n",
       "<span style=white-space:pre-wrap>                      domain = NA)</span>\n",
       "<span style=white-space:pre-wrap>                  ext &lt;- fileExt(file)</span>\n",
       "<span style=white-space:pre-wrap>                  if (basename(file) != paste0(name, \".\", ext)) </span>\n",
       "<span style=white-space:pre-wrap>                    found &lt;- FALSE</span>\n",
       "<span style=white-space:pre-wrap>                  else {</span>\n",
       "<span style=white-space:pre-wrap>                    found &lt;- TRUE</span>\n",
       "<span style=white-space:pre-wrap>                    switch(ext, R = , r = {</span>\n",
       "<span style=white-space:pre-wrap>                      library(\"utils\")</span>\n",
       "<span style=white-space:pre-wrap>                      sys.source(file, chdir = TRUE, envir = tmp_env)</span>\n",
       "<span style=white-space:pre-wrap>                    }, RData = , rdata = , rda = load(file, envir = tmp_env), </span>\n",
       "<span style=white-space:pre-wrap>                      TXT = , txt = , tab = , tab.gz = , tab.bz2 = , </span>\n",
       "<span style=white-space:pre-wrap>                      tab.xz = , txt.gz = , txt.bz2 = , txt.xz = assign(name, </span>\n",
       "<span style=white-space:pre-wrap>                        my_read_table(file, header = TRUE, as.is = FALSE), </span>\n",
       "<span style=white-space:pre-wrap>                        envir = tmp_env), CSV = , csv = , csv.gz = , </span>\n",
       "<span style=white-space:pre-wrap>                      csv.bz2 = , csv.xz = assign(name, my_read_table(file, </span>\n",
       "<span style=white-space:pre-wrap>                        header = TRUE, sep = \";\", as.is = FALSE), </span>\n",
       "<span style=white-space:pre-wrap>                        envir = tmp_env), found &lt;- FALSE)</span>\n",
       "<span style=white-space:pre-wrap>                  }</span>\n",
       "<span style=white-space:pre-wrap>                  if (found) </span>\n",
       "<span style=white-space:pre-wrap>                    break</span>\n",
       "<span style=white-space:pre-wrap>                }</span>\n",
       "<span style=white-space:pre-wrap>                if (verbose) </span>\n",
       "<span style=white-space:pre-wrap>                  message(if (!found) </span>\n",
       "<span style=white-space:pre-wrap>                    \"*NOT* \", \"found\", domain = NA)</span>\n",
       "<span style=white-space:pre-wrap>            }</span>\n",
       "<span style=white-space:pre-wrap>            if (found) </span>\n",
       "<span style=white-space:pre-wrap>                break</span>\n",
       "<span style=white-space:pre-wrap>        }</span>\n",
       "<span style=white-space:pre-wrap>        if (!found) {</span>\n",
       "<span style=white-space:pre-wrap>            warning(gettextf(\"data set %s not found\", sQuote(name)), </span>\n",
       "<span style=white-space:pre-wrap>                domain = NA)</span>\n",
       "<span style=white-space:pre-wrap>        }</span>\n",
       "<span style=white-space:pre-wrap>        else if (!overwrite) {</span>\n",
       "<span style=white-space:pre-wrap>            for (o in ls(envir = tmp_env, all.names = TRUE)) {</span>\n",
       "<span style=white-space:pre-wrap>                if (exists(o, envir = envir, inherits = FALSE)) </span>\n",
       "<span style=white-space:pre-wrap>                  warning(gettextf(\"an object named %s already exists and will not be overwritten\", </span>\n",
       "<span style=white-space:pre-wrap>                    sQuote(o)))</span>\n",
       "<span style=white-space:pre-wrap>                else assign(o, get(o, envir = tmp_env, inherits = FALSE), </span>\n",
       "<span style=white-space:pre-wrap>                  envir = envir)</span>\n",
       "<span style=white-space:pre-wrap>            }</span>\n",
       "<span style=white-space:pre-wrap>            rm(tmp_env)</span>\n",
       "<span style=white-space:pre-wrap>        }</span>\n",
       "<span style=white-space:pre-wrap>    }</span>\n",
       "<span style=white-space:pre-wrap>    invisible(names)</span>\n",
       "}</code></pre>"
      ],
      "text/latex": [
       "\\begin{minted}{r}\n",
       "function (..., list = character(), package = NULL, lib.loc = NULL, \n",
       "    verbose = getOption(\"verbose\"), envir = .GlobalEnv, overwrite = TRUE) \n",
       "\\{\n",
       "    fileExt <- function(x) \\{\n",
       "        db <- grepl(\"\\textbackslash{}\\textbackslash{}.{[}\\textasciicircum{}.{]}+\\textbackslash{}\\textbackslash{}.(gz\\textbar{}bz2\\textbar{}xz)\\$\", x)\n",
       "        ans <- sub(\".*\\textbackslash{}\\textbackslash{}.\", \"\", x)\n",
       "        ans{[}db{]} <- sub(\".*\\textbackslash{}\\textbackslash{}.({[}\\textasciicircum{}.{]}+\\textbackslash{}\\textbackslash{}.)(gz\\textbar{}bz2\\textbar{}xz)\\$\", \"\\textbackslash{}\\textbackslash{}1\\textbackslash{}\\textbackslash{}2\", \n",
       "            x{[}db{]})\n",
       "        ans\n",
       "    \\}\n",
       "    my\\_read\\_table <- function(...) \\{\n",
       "        lcc <- Sys.getlocale(\"LC\\_COLLATE\")\n",
       "        on.exit(Sys.setlocale(\"LC\\_COLLATE\", lcc))\n",
       "        Sys.setlocale(\"LC\\_COLLATE\", \"C\")\n",
       "        read.table(...)\n",
       "    \\}\n",
       "    stopifnot(is.character(list))\n",
       "    names <- c(as.character(substitute(list(...)){[}-1L{]}), list)\n",
       "    if (!is.null(package)) \\{\n",
       "        if (!is.character(package)) \n",
       "            stop(\"'package' must be a character vector or NULL\")\n",
       "    \\}\n",
       "    paths <- find.package(package, lib.loc, verbose = verbose)\n",
       "    if (is.null(lib.loc)) \n",
       "        paths <- c(path.package(package, TRUE), if (!length(package)) getwd(), \n",
       "            paths)\n",
       "    paths <- unique(normalizePath(paths{[}file.exists(paths){]}))\n",
       "    paths <- paths{[}dir.exists(file.path(paths, \"data\")){]}\n",
       "    dataExts <- tools:::.make\\_file\\_exts(\"data\")\n",
       "    if (length(names) == 0L) \\{\n",
       "        db <- matrix(character(), nrow = 0L, ncol = 4L)\n",
       "        for (path in paths) \\{\n",
       "            entries <- NULL\n",
       "            packageName <- if (file\\_test(\"-f\", file.path(path, \n",
       "                \"DESCRIPTION\"))) \n",
       "                basename(path)\n",
       "            else \".\"\n",
       "            if (file\\_test(\"-f\", INDEX <- file.path(path, \"Meta\", \n",
       "                \"data.rds\"))) \\{\n",
       "                entries <- readRDS(INDEX)\n",
       "            \\}\n",
       "            else \\{\n",
       "                dataDir <- file.path(path, \"data\")\n",
       "                entries <- tools::list\\_files\\_with\\_type(dataDir, \n",
       "                  \"data\")\n",
       "                if (length(entries)) \\{\n",
       "                  entries <- unique(tools::file\\_path\\_sans\\_ext(basename(entries)))\n",
       "                  entries <- cbind(entries, \"\")\n",
       "                \\}\n",
       "            \\}\n",
       "            if (NROW(entries)) \\{\n",
       "                if (is.matrix(entries) \\&\\& ncol(entries) == 2L) \n",
       "                  db <- rbind(db, cbind(packageName, dirname(path), \n",
       "                    entries))\n",
       "                else warning(gettextf(\"data index for package \\%s is invalid and will be ignored\", \n",
       "                  sQuote(packageName)), domain = NA, call. = FALSE)\n",
       "            \\}\n",
       "        \\}\n",
       "        colnames(db) <- c(\"Package\", \"LibPath\", \"Item\", \"Title\")\n",
       "        footer <- if (missing(package)) \n",
       "            paste0(\"Use \", sQuote(paste(\"data(package =\", \".packages(all.available = TRUE))\")), \n",
       "                \"\\textbackslash{}n\", \"to list the data sets in all *available* packages.\")\n",
       "        else NULL\n",
       "        y <- list(title = \"Data sets\", header = NULL, results = db, \n",
       "            footer = footer)\n",
       "        class(y) <- \"packageIQR\"\n",
       "        return(y)\n",
       "    \\}\n",
       "    paths <- file.path(paths, \"data\")\n",
       "    for (name in names) \\{\n",
       "        found <- FALSE\n",
       "        for (p in paths) \\{\n",
       "            tmp\\_env <- if (overwrite) \n",
       "                envir\n",
       "            else new.env()\n",
       "            if (file\\_test(\"-f\", file.path(p, \"Rdata.rds\"))) \\{\n",
       "                rds <- readRDS(file.path(p, \"Rdata.rds\"))\n",
       "                if (name \\%in\\% names(rds)) \\{\n",
       "                  found <- TRUE\n",
       "                  if (verbose) \n",
       "                    message(sprintf(\"name=\\%s:\\textbackslash{}t found in Rdata.rds\", \n",
       "                      name), domain = NA)\n",
       "                  thispkg <- sub(\".*/({[}\\textasciicircum{}/{]}*)/data\\$\", \"\\textbackslash{}\\textbackslash{}1\", p)\n",
       "                  thispkg <- sub(\"\\_.*\\$\", \"\", thispkg)\n",
       "                  thispkg <- paste0(\"package:\", thispkg)\n",
       "                  objs <- rds{[}{[}name{]}{]}\n",
       "                  lazyLoad(file.path(p, \"Rdata\"), envir = tmp\\_env, \n",
       "                    filter = function(x) x \\%in\\% objs)\n",
       "                  break\n",
       "                \\}\n",
       "                else if (verbose) \n",
       "                  message(sprintf(\"name=\\%s:\\textbackslash{}t NOT found in names() of Rdata.rds, i.e.,\\textbackslash{}n\\textbackslash{}t\\%s\\textbackslash{}n\", \n",
       "                    name, paste(names(rds), collapse = \",\")), \n",
       "                    domain = NA)\n",
       "            \\}\n",
       "            files <- list.files(p, full.names = TRUE)\n",
       "            files <- files{[}grep(name, files, fixed = TRUE){]}\n",
       "            if (length(files) > 1L) \\{\n",
       "                o <- match(fileExt(files), dataExts, nomatch = 100L)\n",
       "                paths0 <- dirname(files)\n",
       "                paths0 <- factor(paths0, levels = unique(paths0))\n",
       "                files <- files{[}order(paths0, o){]}\n",
       "            \\}\n",
       "            if (length(files)) \\{\n",
       "                for (file in files) \\{\n",
       "                  if (verbose) \n",
       "                    message(\"name=\", name, \":\\textbackslash{}t file= ...\", .Platform\\$file.sep, \n",
       "                      basename(file), \"::\\textbackslash{}t\", appendLF = FALSE, \n",
       "                      domain = NA)\n",
       "                  ext <- fileExt(file)\n",
       "                  if (basename(file) != paste0(name, \".\", ext)) \n",
       "                    found <- FALSE\n",
       "                  else \\{\n",
       "                    found <- TRUE\n",
       "                    switch(ext, R = , r = \\{\n",
       "                      library(\"utils\")\n",
       "                      sys.source(file, chdir = TRUE, envir = tmp\\_env)\n",
       "                    \\}, RData = , rdata = , rda = load(file, envir = tmp\\_env), \n",
       "                      TXT = , txt = , tab = , tab.gz = , tab.bz2 = , \n",
       "                      tab.xz = , txt.gz = , txt.bz2 = , txt.xz = assign(name, \n",
       "                        my\\_read\\_table(file, header = TRUE, as.is = FALSE), \n",
       "                        envir = tmp\\_env), CSV = , csv = , csv.gz = , \n",
       "                      csv.bz2 = , csv.xz = assign(name, my\\_read\\_table(file, \n",
       "                        header = TRUE, sep = \";\", as.is = FALSE), \n",
       "                        envir = tmp\\_env), found <- FALSE)\n",
       "                  \\}\n",
       "                  if (found) \n",
       "                    break\n",
       "                \\}\n",
       "                if (verbose) \n",
       "                  message(if (!found) \n",
       "                    \"*NOT* \", \"found\", domain = NA)\n",
       "            \\}\n",
       "            if (found) \n",
       "                break\n",
       "        \\}\n",
       "        if (!found) \\{\n",
       "            warning(gettextf(\"data set \\%s not found\", sQuote(name)), \n",
       "                domain = NA)\n",
       "        \\}\n",
       "        else if (!overwrite) \\{\n",
       "            for (o in ls(envir = tmp\\_env, all.names = TRUE)) \\{\n",
       "                if (exists(o, envir = envir, inherits = FALSE)) \n",
       "                  warning(gettextf(\"an object named \\%s already exists and will not be overwritten\", \n",
       "                    sQuote(o)))\n",
       "                else assign(o, get(o, envir = tmp\\_env, inherits = FALSE), \n",
       "                  envir = envir)\n",
       "            \\}\n",
       "            rm(tmp\\_env)\n",
       "        \\}\n",
       "    \\}\n",
       "    invisible(names)\n",
       "\\}\n",
       "\\end{minted}"
      ],
      "text/markdown": [
       "```r\n",
       "function (..., list = character(), package = NULL, lib.loc = NULL, \n",
       "    verbose = getOption(\"verbose\"), envir = .GlobalEnv, overwrite = TRUE) \n",
       "{\n",
       "    fileExt <- function(x) {\n",
       "        db <- grepl(\"\\\\.[^.]+\\\\.(gz|bz2|xz)$\", x)\n",
       "        ans <- sub(\".*\\\\.\", \"\", x)\n",
       "        ans[db] <- sub(\".*\\\\.([^.]+\\\\.)(gz|bz2|xz)$\", \"\\\\1\\\\2\", \n",
       "            x[db])\n",
       "        ans\n",
       "    }\n",
       "    my_read_table <- function(...) {\n",
       "        lcc <- Sys.getlocale(\"LC_COLLATE\")\n",
       "        on.exit(Sys.setlocale(\"LC_COLLATE\", lcc))\n",
       "        Sys.setlocale(\"LC_COLLATE\", \"C\")\n",
       "        read.table(...)\n",
       "    }\n",
       "    stopifnot(is.character(list))\n",
       "    names <- c(as.character(substitute(list(...))[-1L]), list)\n",
       "    if (!is.null(package)) {\n",
       "        if (!is.character(package)) \n",
       "            stop(\"'package' must be a character vector or NULL\")\n",
       "    }\n",
       "    paths <- find.package(package, lib.loc, verbose = verbose)\n",
       "    if (is.null(lib.loc)) \n",
       "        paths <- c(path.package(package, TRUE), if (!length(package)) getwd(), \n",
       "            paths)\n",
       "    paths <- unique(normalizePath(paths[file.exists(paths)]))\n",
       "    paths <- paths[dir.exists(file.path(paths, \"data\"))]\n",
       "    dataExts <- tools:::.make_file_exts(\"data\")\n",
       "    if (length(names) == 0L) {\n",
       "        db <- matrix(character(), nrow = 0L, ncol = 4L)\n",
       "        for (path in paths) {\n",
       "            entries <- NULL\n",
       "            packageName <- if (file_test(\"-f\", file.path(path, \n",
       "                \"DESCRIPTION\"))) \n",
       "                basename(path)\n",
       "            else \".\"\n",
       "            if (file_test(\"-f\", INDEX <- file.path(path, \"Meta\", \n",
       "                \"data.rds\"))) {\n",
       "                entries <- readRDS(INDEX)\n",
       "            }\n",
       "            else {\n",
       "                dataDir <- file.path(path, \"data\")\n",
       "                entries <- tools::list_files_with_type(dataDir, \n",
       "                  \"data\")\n",
       "                if (length(entries)) {\n",
       "                  entries <- unique(tools::file_path_sans_ext(basename(entries)))\n",
       "                  entries <- cbind(entries, \"\")\n",
       "                }\n",
       "            }\n",
       "            if (NROW(entries)) {\n",
       "                if (is.matrix(entries) && ncol(entries) == 2L) \n",
       "                  db <- rbind(db, cbind(packageName, dirname(path), \n",
       "                    entries))\n",
       "                else warning(gettextf(\"data index for package %s is invalid and will be ignored\", \n",
       "                  sQuote(packageName)), domain = NA, call. = FALSE)\n",
       "            }\n",
       "        }\n",
       "        colnames(db) <- c(\"Package\", \"LibPath\", \"Item\", \"Title\")\n",
       "        footer <- if (missing(package)) \n",
       "            paste0(\"Use \", sQuote(paste(\"data(package =\", \".packages(all.available = TRUE))\")), \n",
       "                \"\\n\", \"to list the data sets in all *available* packages.\")\n",
       "        else NULL\n",
       "        y <- list(title = \"Data sets\", header = NULL, results = db, \n",
       "            footer = footer)\n",
       "        class(y) <- \"packageIQR\"\n",
       "        return(y)\n",
       "    }\n",
       "    paths <- file.path(paths, \"data\")\n",
       "    for (name in names) {\n",
       "        found <- FALSE\n",
       "        for (p in paths) {\n",
       "            tmp_env <- if (overwrite) \n",
       "                envir\n",
       "            else new.env()\n",
       "            if (file_test(\"-f\", file.path(p, \"Rdata.rds\"))) {\n",
       "                rds <- readRDS(file.path(p, \"Rdata.rds\"))\n",
       "                if (name %in% names(rds)) {\n",
       "                  found <- TRUE\n",
       "                  if (verbose) \n",
       "                    message(sprintf(\"name=%s:\\t found in Rdata.rds\", \n",
       "                      name), domain = NA)\n",
       "                  thispkg <- sub(\".*/([^/]*)/data$\", \"\\\\1\", p)\n",
       "                  thispkg <- sub(\"_.*$\", \"\", thispkg)\n",
       "                  thispkg <- paste0(\"package:\", thispkg)\n",
       "                  objs <- rds[[name]]\n",
       "                  lazyLoad(file.path(p, \"Rdata\"), envir = tmp_env, \n",
       "                    filter = function(x) x %in% objs)\n",
       "                  break\n",
       "                }\n",
       "                else if (verbose) \n",
       "                  message(sprintf(\"name=%s:\\t NOT found in names() of Rdata.rds, i.e.,\\n\\t%s\\n\", \n",
       "                    name, paste(names(rds), collapse = \",\")), \n",
       "                    domain = NA)\n",
       "            }\n",
       "            files <- list.files(p, full.names = TRUE)\n",
       "            files <- files[grep(name, files, fixed = TRUE)]\n",
       "            if (length(files) > 1L) {\n",
       "                o <- match(fileExt(files), dataExts, nomatch = 100L)\n",
       "                paths0 <- dirname(files)\n",
       "                paths0 <- factor(paths0, levels = unique(paths0))\n",
       "                files <- files[order(paths0, o)]\n",
       "            }\n",
       "            if (length(files)) {\n",
       "                for (file in files) {\n",
       "                  if (verbose) \n",
       "                    message(\"name=\", name, \":\\t file= ...\", .Platform$file.sep, \n",
       "                      basename(file), \"::\\t\", appendLF = FALSE, \n",
       "                      domain = NA)\n",
       "                  ext <- fileExt(file)\n",
       "                  if (basename(file) != paste0(name, \".\", ext)) \n",
       "                    found <- FALSE\n",
       "                  else {\n",
       "                    found <- TRUE\n",
       "                    switch(ext, R = , r = {\n",
       "                      library(\"utils\")\n",
       "                      sys.source(file, chdir = TRUE, envir = tmp_env)\n",
       "                    }, RData = , rdata = , rda = load(file, envir = tmp_env), \n",
       "                      TXT = , txt = , tab = , tab.gz = , tab.bz2 = , \n",
       "                      tab.xz = , txt.gz = , txt.bz2 = , txt.xz = assign(name, \n",
       "                        my_read_table(file, header = TRUE, as.is = FALSE), \n",
       "                        envir = tmp_env), CSV = , csv = , csv.gz = , \n",
       "                      csv.bz2 = , csv.xz = assign(name, my_read_table(file, \n",
       "                        header = TRUE, sep = \";\", as.is = FALSE), \n",
       "                        envir = tmp_env), found <- FALSE)\n",
       "                  }\n",
       "                  if (found) \n",
       "                    break\n",
       "                }\n",
       "                if (verbose) \n",
       "                  message(if (!found) \n",
       "                    \"*NOT* \", \"found\", domain = NA)\n",
       "            }\n",
       "            if (found) \n",
       "                break\n",
       "        }\n",
       "        if (!found) {\n",
       "            warning(gettextf(\"data set %s not found\", sQuote(name)), \n",
       "                domain = NA)\n",
       "        }\n",
       "        else if (!overwrite) {\n",
       "            for (o in ls(envir = tmp_env, all.names = TRUE)) {\n",
       "                if (exists(o, envir = envir, inherits = FALSE)) \n",
       "                  warning(gettextf(\"an object named %s already exists and will not be overwritten\", \n",
       "                    sQuote(o)))\n",
       "                else assign(o, get(o, envir = tmp_env, inherits = FALSE), \n",
       "                  envir = envir)\n",
       "            }\n",
       "            rm(tmp_env)\n",
       "        }\n",
       "    }\n",
       "    invisible(names)\n",
       "}\n",
       "```"
      ],
      "text/plain": [
       "function (..., list = character(), package = NULL, lib.loc = NULL, \n",
       "    verbose = getOption(\"verbose\"), envir = .GlobalEnv, overwrite = TRUE) \n",
       "{\n",
       "    fileExt <- function(x) {\n",
       "        db <- grepl(\"\\\\.[^.]+\\\\.(gz|bz2|xz)$\", x)\n",
       "        ans <- sub(\".*\\\\.\", \"\", x)\n",
       "        ans[db] <- sub(\".*\\\\.([^.]+\\\\.)(gz|bz2|xz)$\", \"\\\\1\\\\2\", \n",
       "            x[db])\n",
       "        ans\n",
       "    }\n",
       "    my_read_table <- function(...) {\n",
       "        lcc <- Sys.getlocale(\"LC_COLLATE\")\n",
       "        on.exit(Sys.setlocale(\"LC_COLLATE\", lcc))\n",
       "        Sys.setlocale(\"LC_COLLATE\", \"C\")\n",
       "        read.table(...)\n",
       "    }\n",
       "    stopifnot(is.character(list))\n",
       "    names <- c(as.character(substitute(list(...))[-1L]), list)\n",
       "    if (!is.null(package)) {\n",
       "        if (!is.character(package)) \n",
       "            stop(\"'package' must be a character vector or NULL\")\n",
       "    }\n",
       "    paths <- find.package(package, lib.loc, verbose = verbose)\n",
       "    if (is.null(lib.loc)) \n",
       "        paths <- c(path.package(package, TRUE), if (!length(package)) getwd(), \n",
       "            paths)\n",
       "    paths <- unique(normalizePath(paths[file.exists(paths)]))\n",
       "    paths <- paths[dir.exists(file.path(paths, \"data\"))]\n",
       "    dataExts <- tools:::.make_file_exts(\"data\")\n",
       "    if (length(names) == 0L) {\n",
       "        db <- matrix(character(), nrow = 0L, ncol = 4L)\n",
       "        for (path in paths) {\n",
       "            entries <- NULL\n",
       "            packageName <- if (file_test(\"-f\", file.path(path, \n",
       "                \"DESCRIPTION\"))) \n",
       "                basename(path)\n",
       "            else \".\"\n",
       "            if (file_test(\"-f\", INDEX <- file.path(path, \"Meta\", \n",
       "                \"data.rds\"))) {\n",
       "                entries <- readRDS(INDEX)\n",
       "            }\n",
       "            else {\n",
       "                dataDir <- file.path(path, \"data\")\n",
       "                entries <- tools::list_files_with_type(dataDir, \n",
       "                  \"data\")\n",
       "                if (length(entries)) {\n",
       "                  entries <- unique(tools::file_path_sans_ext(basename(entries)))\n",
       "                  entries <- cbind(entries, \"\")\n",
       "                }\n",
       "            }\n",
       "            if (NROW(entries)) {\n",
       "                if (is.matrix(entries) && ncol(entries) == 2L) \n",
       "                  db <- rbind(db, cbind(packageName, dirname(path), \n",
       "                    entries))\n",
       "                else warning(gettextf(\"data index for package %s is invalid and will be ignored\", \n",
       "                  sQuote(packageName)), domain = NA, call. = FALSE)\n",
       "            }\n",
       "        }\n",
       "        colnames(db) <- c(\"Package\", \"LibPath\", \"Item\", \"Title\")\n",
       "        footer <- if (missing(package)) \n",
       "            paste0(\"Use \", sQuote(paste(\"data(package =\", \".packages(all.available = TRUE))\")), \n",
       "                \"\\n\", \"to list the data sets in all *available* packages.\")\n",
       "        else NULL\n",
       "        y <- list(title = \"Data sets\", header = NULL, results = db, \n",
       "            footer = footer)\n",
       "        class(y) <- \"packageIQR\"\n",
       "        return(y)\n",
       "    }\n",
       "    paths <- file.path(paths, \"data\")\n",
       "    for (name in names) {\n",
       "        found <- FALSE\n",
       "        for (p in paths) {\n",
       "            tmp_env <- if (overwrite) \n",
       "                envir\n",
       "            else new.env()\n",
       "            if (file_test(\"-f\", file.path(p, \"Rdata.rds\"))) {\n",
       "                rds <- readRDS(file.path(p, \"Rdata.rds\"))\n",
       "                if (name %in% names(rds)) {\n",
       "                  found <- TRUE\n",
       "                  if (verbose) \n",
       "                    message(sprintf(\"name=%s:\\t found in Rdata.rds\", \n",
       "                      name), domain = NA)\n",
       "                  thispkg <- sub(\".*/([^/]*)/data$\", \"\\\\1\", p)\n",
       "                  thispkg <- sub(\"_.*$\", \"\", thispkg)\n",
       "                  thispkg <- paste0(\"package:\", thispkg)\n",
       "                  objs <- rds[[name]]\n",
       "                  lazyLoad(file.path(p, \"Rdata\"), envir = tmp_env, \n",
       "                    filter = function(x) x %in% objs)\n",
       "                  break\n",
       "                }\n",
       "                else if (verbose) \n",
       "                  message(sprintf(\"name=%s:\\t NOT found in names() of Rdata.rds, i.e.,\\n\\t%s\\n\", \n",
       "                    name, paste(names(rds), collapse = \",\")), \n",
       "                    domain = NA)\n",
       "            }\n",
       "            files <- list.files(p, full.names = TRUE)\n",
       "            files <- files[grep(name, files, fixed = TRUE)]\n",
       "            if (length(files) > 1L) {\n",
       "                o <- match(fileExt(files), dataExts, nomatch = 100L)\n",
       "                paths0 <- dirname(files)\n",
       "                paths0 <- factor(paths0, levels = unique(paths0))\n",
       "                files <- files[order(paths0, o)]\n",
       "            }\n",
       "            if (length(files)) {\n",
       "                for (file in files) {\n",
       "                  if (verbose) \n",
       "                    message(\"name=\", name, \":\\t file= ...\", .Platform$file.sep, \n",
       "                      basename(file), \"::\\t\", appendLF = FALSE, \n",
       "                      domain = NA)\n",
       "                  ext <- fileExt(file)\n",
       "                  if (basename(file) != paste0(name, \".\", ext)) \n",
       "                    found <- FALSE\n",
       "                  else {\n",
       "                    found <- TRUE\n",
       "                    switch(ext, R = , r = {\n",
       "                      library(\"utils\")\n",
       "                      sys.source(file, chdir = TRUE, envir = tmp_env)\n",
       "                    }, RData = , rdata = , rda = load(file, envir = tmp_env), \n",
       "                      TXT = , txt = , tab = , tab.gz = , tab.bz2 = , \n",
       "                      tab.xz = , txt.gz = , txt.bz2 = , txt.xz = assign(name, \n",
       "                        my_read_table(file, header = TRUE, as.is = FALSE), \n",
       "                        envir = tmp_env), CSV = , csv = , csv.gz = , \n",
       "                      csv.bz2 = , csv.xz = assign(name, my_read_table(file, \n",
       "                        header = TRUE, sep = \";\", as.is = FALSE), \n",
       "                        envir = tmp_env), found <- FALSE)\n",
       "                  }\n",
       "                  if (found) \n",
       "                    break\n",
       "                }\n",
       "                if (verbose) \n",
       "                  message(if (!found) \n",
       "                    \"*NOT* \", \"found\", domain = NA)\n",
       "            }\n",
       "            if (found) \n",
       "                break\n",
       "        }\n",
       "        if (!found) {\n",
       "            warning(gettextf(\"data set %s not found\", sQuote(name)), \n",
       "                domain = NA)\n",
       "        }\n",
       "        else if (!overwrite) {\n",
       "            for (o in ls(envir = tmp_env, all.names = TRUE)) {\n",
       "                if (exists(o, envir = envir, inherits = FALSE)) \n",
       "                  warning(gettextf(\"an object named %s already exists and will not be overwritten\", \n",
       "                    sQuote(o)))\n",
       "                else assign(o, get(o, envir = tmp_env, inherits = FALSE), \n",
       "                  envir = envir)\n",
       "            }\n",
       "            rm(tmp_env)\n",
       "        }\n",
       "    }\n",
       "    invisible(names)\n",
       "}\n",
       "<bytecode: 0x00000167ec73efc8>\n",
       "<environment: namespace:utils>"
      ]
     },
     "metadata": {},
     "output_type": "display_data"
    }
   ],
   "source": [
    "data"
   ]
  },
  {
   "cell_type": "code",
   "execution_count": 7,
   "id": "1a6305f7-c3ee-4870-96f8-ffedcb0265d5",
   "metadata": {},
   "outputs": [
    {
     "name": "stderr",
     "output_type": "stream",
     "text": [
      "Warning message in is.na(data):\n",
      "\"is.na() applied to non-(list or vector) of type 'closure'\"\n"
     ]
    },
    {
     "data": {
      "text/html": [
       "0"
      ],
      "text/latex": [
       "0"
      ],
      "text/markdown": [
       "0"
      ],
      "text/plain": [
       "[1] 0"
      ]
     },
     "metadata": {},
     "output_type": "display_data"
    }
   ],
   "source": [
    "sum(is.na(data))"
   ]
  },
  {
   "cell_type": "code",
   "execution_count": 8,
   "id": "68240ea1-e555-4b29-b150-d4359d3873a9",
   "metadata": {},
   "outputs": [
    {
     "ename": "ERROR",
     "evalue": "Error in info(data): could not find function \"info\"\n",
     "output_type": "error",
     "traceback": [
      "Error in info(data): could not find function \"info\"\nTraceback:\n"
     ]
    }
   ],
   "source": [
    "info(data)"
   ]
  },
  {
   "cell_type": "code",
   "execution_count": 9,
   "id": "cff15653-dddd-4398-ab04-f4d9e49d1c2a",
   "metadata": {},
   "outputs": [
    {
     "name": "stdout",
     "output_type": "stream",
     "text": [
      "function (..., list = character(), package = NULL, lib.loc = NULL, verbose = getOption(\"verbose\"), \n",
      "    envir = .GlobalEnv, overwrite = TRUE)  \n"
     ]
    }
   ],
   "source": [
    "str(data)"
   ]
  },
  {
   "cell_type": "code",
   "execution_count": 10,
   "id": "1fb615ab-f436-443c-aab4-04ba4ae54faf",
   "metadata": {},
   "outputs": [
    {
     "ename": "ERROR",
     "evalue": "Error in object[[i]]: object of type 'closure' is not subsettable\n",
     "output_type": "error",
     "traceback": [
      "Error in object[[i]]: object of type 'closure' is not subsettable\nTraceback:\n",
      "1. summary.default(data)"
     ]
    }
   ],
   "source": [
    "summary(data)"
   ]
  },
  {
   "cell_type": "code",
   "execution_count": 11,
   "id": "f9ecd8f4-bb15-4f8b-bbaf-26e4b4052aeb",
   "metadata": {},
   "outputs": [
    {
     "data": {
      "text/plain": [
       "NULL"
      ]
     },
     "metadata": {},
     "output_type": "display_data"
    }
   ],
   "source": [
    "dim(data)"
   ]
  },
  {
   "cell_type": "code",
   "execution_count": 12,
   "id": "8d9615d4-ae35-48e1-9d21-f35703b9a3c4",
   "metadata": {},
   "outputs": [
    {
     "ename": "ERROR",
     "evalue": "Error in (function (cond) : error in evaluating the argument 'x' in selecting a method for function 'plot': object of type 'closure' is not subsettable\n",
     "output_type": "error",
     "traceback": [
      "Error in (function (cond) : error in evaluating the argument 'x' in selecting a method for function 'plot': object of type 'closure' is not subsettable\nTraceback:\n",
      "1. density(data$trestbps)",
      "2. (function (cond) \n . .Internal(C_tryCatchHelper(addr, 1L, cond)))(structure(list(message = \"object of type 'closure' is not subsettable\", \n .     call = data$trestbps, object = function (..., list = character(), \n .         package = NULL, lib.loc = NULL, verbose = getOption(\"verbose\"), \n .         envir = .GlobalEnv, overwrite = TRUE) \n .     {\n .         fileExt <- function(x) {\n .             db <- grepl(\"\\\\.[^.]+\\\\.(gz|bz2|xz)$\", x)\n .             ans <- sub(\".*\\\\.\", \"\", x)\n .             ans[db] <- sub(\".*\\\\.([^.]+\\\\.)(gz|bz2|xz)$\", \"\\\\1\\\\2\", \n .                 x[db])\n .             ans\n .         }\n .         my_read_table <- function(...) {\n .             lcc <- Sys.getlocale(\"LC_COLLATE\")\n .             on.exit(Sys.setlocale(\"LC_COLLATE\", lcc))\n .             Sys.setlocale(\"LC_COLLATE\", \"C\")\n .             read.table(...)\n .         }\n .         stopifnot(is.character(list))\n .         names <- c(as.character(substitute(list(...))[-1L]), \n .             list)\n .         if (!is.null(package)) {\n .             if (!is.character(package)) \n .                 stop(\"'package' must be a character vector or NULL\")\n .         }\n .         paths <- find.package(package, lib.loc, verbose = verbose)\n .         if (is.null(lib.loc)) \n .             paths <- c(path.package(package, TRUE), if (!length(package)) getwd(), \n .                 paths)\n .         paths <- unique(normalizePath(paths[file.exists(paths)]))\n .         paths <- paths[dir.exists(file.path(paths, \"data\"))]\n .         dataExts <- tools:::.make_file_exts(\"data\")\n .         if (length(names) == 0L) {\n .             db <- matrix(character(), nrow = 0L, ncol = 4L)\n .             for (path in paths) {\n .                 entries <- NULL\n .                 packageName <- if (file_test(\"-f\", file.path(path, \n .                   \"DESCRIPTION\"))) \n .                   basename(path)\n .                 else \".\"\n .                 if (file_test(\"-f\", INDEX <- file.path(path, \n .                   \"Meta\", \"data.rds\"))) {\n .                   entries <- readRDS(INDEX)\n .                 }\n .                 else {\n .                   dataDir <- file.path(path, \"data\")\n .                   entries <- tools::list_files_with_type(dataDir, \n .                     \"data\")\n .                   if (length(entries)) {\n .                     entries <- unique(tools::file_path_sans_ext(basename(entries)))\n .                     entries <- cbind(entries, \"\")\n .                   }\n .                 }\n .                 if (NROW(entries)) {\n .                   if (is.matrix(entries) && ncol(entries) == \n .                     2L) \n .                     db <- rbind(db, cbind(packageName, dirname(path), \n .                       entries))\n .                   else warning(gettextf(\"data index for package %s is invalid and will be ignored\", \n .                     sQuote(packageName)), domain = NA, call. = FALSE)\n .                 }\n .             }\n .             colnames(db) <- c(\"Package\", \"LibPath\", \"Item\", \"Title\")\n .             footer <- if (missing(package)) \n .                 paste0(\"Use \", sQuote(paste(\"data(package =\", \n .                   \".packages(all.available = TRUE))\")), \"\\n\", \n .                   \"to list the data sets in all *available* packages.\")\n .             else NULL\n .             y <- list(title = \"Data sets\", header = NULL, results = db, \n .                 footer = footer)\n .             class(y) <- \"packageIQR\"\n .             return(y)\n .         }\n .         paths <- file.path(paths, \"data\")\n .         for (name in names) {\n .             found <- FALSE\n .             for (p in paths) {\n .                 tmp_env <- if (overwrite) \n .                   envir\n .                 else new.env()\n .                 if (file_test(\"-f\", file.path(p, \"Rdata.rds\"))) {\n .                   rds <- readRDS(file.path(p, \"Rdata.rds\"))\n .                   if (name %in% names(rds)) {\n .                     found <- TRUE\n .                     if (verbose) \n .                       message(sprintf(\"name=%s:\\t found in Rdata.rds\", \n .                         name), domain = NA)\n .                     thispkg <- sub(\".*/([^/]*)/data$\", \"\\\\1\", \n .                       p)\n .                     thispkg <- sub(\"_.*$\", \"\", thispkg)\n .                     thispkg <- paste0(\"package:\", thispkg)\n .                     objs <- rds[[name]]\n .                     lazyLoad(file.path(p, \"Rdata\"), envir = tmp_env, \n .                       filter = function(x) x %in% objs)\n .                     break\n .                   }\n .                   else if (verbose) \n .                     message(sprintf(\"name=%s:\\t NOT found in names() of Rdata.rds, i.e.,\\n\\t%s\\n\", \n .                       name, paste(names(rds), collapse = \",\")), \n .                       domain = NA)\n .                 }\n .                 files <- list.files(p, full.names = TRUE)\n .                 files <- files[grep(name, files, fixed = TRUE)]\n .                 if (length(files) > 1L) {\n .                   o <- match(fileExt(files), dataExts, nomatch = 100L)\n .                   paths0 <- dirname(files)\n .                   paths0 <- factor(paths0, levels = unique(paths0))\n .                   files <- files[order(paths0, o)]\n .                 }\n .                 if (length(files)) {\n .                   for (file in files) {\n .                     if (verbose) \n .                       message(\"name=\", name, \":\\t file= ...\", \n .                         .Platform$file.sep, basename(file), \"::\\t\", \n .                         appendLF = FALSE, domain = NA)\n .                     ext <- fileExt(file)\n .                     if (basename(file) != paste0(name, \".\", ext)) \n .                       found <- FALSE\n .                     else {\n .                       found <- TRUE\n .                       switch(ext, R = , r = {\n .                         library(\"utils\")\n .                         sys.source(file, chdir = TRUE, envir = tmp_env)\n .                       }, RData = , rdata = , rda = load(file, \n .                         envir = tmp_env), TXT = , txt = , tab = , \n .                         tab.gz = , tab.bz2 = , tab.xz = , txt.gz = , \n .                         txt.bz2 = , txt.xz = assign(name, my_read_table(file, \n .                           header = TRUE, as.is = FALSE), envir = tmp_env), \n .                         CSV = , csv = , csv.gz = , csv.bz2 = , \n .                         csv.xz = assign(name, my_read_table(file, \n .                           header = TRUE, sep = \";\", as.is = FALSE), \n .                           envir = tmp_env), found <- FALSE)\n .                     }\n .                     if (found) \n .                       break\n .                   }\n .                   if (verbose) \n .                     message(if (!found) \n .                       \"*NOT* \", \"found\", domain = NA)\n .                 }\n .                 if (found) \n .                   break\n .             }\n .             if (!found) {\n .                 warning(gettextf(\"data set %s not found\", sQuote(name)), \n .                   domain = NA)\n .             }\n .             else if (!overwrite) {\n .                 for (o in ls(envir = tmp_env, all.names = TRUE)) {\n .                   if (exists(o, envir = envir, inherits = FALSE)) \n .                     warning(gettextf(\"an object named %s already exists and will not be overwritten\", \n .                       sQuote(o)))\n .                   else assign(o, get(o, envir = tmp_env, inherits = FALSE), \n .                     envir = envir)\n .                 }\n .                 rm(tmp_env)\n .             }\n .         }\n .         invisible(names)\n .     }), class = c(\"notSubsettableError\", \"error\", \"condition\"\n . )))",
      "3. .handleSimpleError(function (cnd) \n . {\n .     watcher$capture_plot_and_output()\n .     cnd <- sanitize_call(cnd)\n .     watcher$push(cnd)\n .     switch(on_error, continue = invokeRestart(\"eval_continue\"), \n .         stop = invokeRestart(\"eval_stop\"), error = invokeRestart(\"eval_error\", \n .             cnd))\n . }, \"error in evaluating the argument 'x' in selecting a method for function 'plot': object of type 'closure' is not subsettable\", \n .     base::quote((function (cond) \n .     .Internal(C_tryCatchHelper(addr, 1L, cond)))(structure(list(\n .         message = \"object of type 'closure' is not subsettable\", \n .         call = data$trestbps, object = function (..., list = character(), \n .             package = NULL, lib.loc = NULL, verbose = getOption(\"verbose\"), \n .             envir = .GlobalEnv, overwrite = TRUE) \n .         {\n .             fileExt <- function(x) {\n .                 db <- grepl(\"\\\\.[^.]+\\\\.(gz|bz2|xz)$\", x)\n .                 ans <- sub(\".*\\\\.\", \"\", x)\n .                 ans[db] <- sub(\".*\\\\.([^.]+\\\\.)(gz|bz2|xz)$\", \n .                   \"\\\\1\\\\2\", x[db])\n .                 ans\n .             }\n .             my_read_table <- function(...) {\n .                 lcc <- Sys.getlocale(\"LC_COLLATE\")\n .                 on.exit(Sys.setlocale(\"LC_COLLATE\", lcc))\n .                 Sys.setlocale(\"LC_COLLATE\", \"C\")\n .                 read.table(...)\n .             }\n .             stopifnot(is.character(list))\n .             names <- c(as.character(substitute(list(...))[-1L]), \n .                 list)\n .             if (!is.null(package)) {\n .                 if (!is.character(package)) \n .                   stop(\"'package' must be a character vector or NULL\")\n .             }\n .             paths <- find.package(package, lib.loc, verbose = verbose)\n .             if (is.null(lib.loc)) \n .                 paths <- c(path.package(package, TRUE), if (!length(package)) getwd(), \n .                   paths)\n .             paths <- unique(normalizePath(paths[file.exists(paths)]))\n .             paths <- paths[dir.exists(file.path(paths, \"data\"))]\n .             dataExts <- tools:::.make_file_exts(\"data\")\n .             if (length(names) == 0L) {\n .                 db <- matrix(character(), nrow = 0L, ncol = 4L)\n .                 for (path in paths) {\n .                   entries <- NULL\n .                   packageName <- if (file_test(\"-f\", file.path(path, \n .                     \"DESCRIPTION\"))) \n .                     basename(path)\n .                   else \".\"\n .                   if (file_test(\"-f\", INDEX <- file.path(path, \n .                     \"Meta\", \"data.rds\"))) {\n .                     entries <- readRDS(INDEX)\n .                   }\n .                   else {\n .                     dataDir <- file.path(path, \"data\")\n .                     entries <- tools::list_files_with_type(dataDir, \n .                       \"data\")\n .                     if (length(entries)) {\n .                       entries <- unique(tools::file_path_sans_ext(basename(entries)))\n .                       entries <- cbind(entries, \"\")\n .                     }\n .                   }\n .                   if (NROW(entries)) {\n .                     if (is.matrix(entries) && ncol(entries) == \n .                       2L) \n .                       db <- rbind(db, cbind(packageName, dirname(path), \n .                         entries))\n .                     else warning(gettextf(\"data index for package %s is invalid and will be ignored\", \n .                       sQuote(packageName)), domain = NA, call. = FALSE)\n .                   }\n .                 }\n .                 colnames(db) <- c(\"Package\", \"LibPath\", \"Item\", \n .                   \"Title\")\n .                 footer <- if (missing(package)) \n .                   paste0(\"Use \", sQuote(paste(\"data(package =\", \n .                     \".packages(all.available = TRUE))\")), \"\\n\", \n .                     \"to list the data sets in all *available* packages.\")\n .                 else NULL\n .                 y <- list(title = \"Data sets\", header = NULL, \n .                   results = db, footer = footer)\n .                 class(y) <- \"packageIQR\"\n .                 return(y)\n .             }\n .             paths <- file.path(paths, \"data\")\n .             for (name in names) {\n .                 found <- FALSE\n .                 for (p in paths) {\n .                   tmp_env <- if (overwrite) \n .                     envir\n .                   else new.env()\n .                   if (file_test(\"-f\", file.path(p, \"Rdata.rds\"))) {\n .                     rds <- readRDS(file.path(p, \"Rdata.rds\"))\n .                     if (name %in% names(rds)) {\n .                       found <- TRUE\n .                       if (verbose) \n .                         message(sprintf(\"name=%s:\\t found in Rdata.rds\", \n .                           name), domain = NA)\n .                       thispkg <- sub(\".*/([^/]*)/data$\", \"\\\\1\", \n .                         p)\n .                       thispkg <- sub(\"_.*$\", \"\", thispkg)\n .                       thispkg <- paste0(\"package:\", thispkg)\n .                       objs <- rds[[name]]\n .                       lazyLoad(file.path(p, \"Rdata\"), envir = tmp_env, \n .                         filter = function(x) x %in% objs)\n .                       break\n .                     }\n .                     else if (verbose) \n .                       message(sprintf(\"name=%s:\\t NOT found in names() of Rdata.rds, i.e.,\\n\\t%s\\n\", \n .                         name, paste(names(rds), collapse = \",\")), \n .                         domain = NA)\n .                   }\n .                   files <- list.files(p, full.names = TRUE)\n .                   files <- files[grep(name, files, fixed = TRUE)]\n .                   if (length(files) > 1L) {\n .                     o <- match(fileExt(files), dataExts, nomatch = 100L)\n .                     paths0 <- dirname(files)\n .                     paths0 <- factor(paths0, levels = unique(paths0))\n .                     files <- files[order(paths0, o)]\n .                   }\n .                   if (length(files)) {\n .                     for (file in files) {\n .                       if (verbose) \n .                         message(\"name=\", name, \":\\t file= ...\", \n .                           .Platform$file.sep, basename(file), \n .                           \"::\\t\", appendLF = FALSE, domain = NA)\n .                       ext <- fileExt(file)\n .                       if (basename(file) != paste0(name, \".\", \n .                         ext)) \n .                         found <- FALSE\n .                       else {\n .                         found <- TRUE\n .                         switch(ext, R = , r = {\n .                           library(\"utils\")\n .                           sys.source(file, chdir = TRUE, envir = tmp_env)\n .                         }, RData = , rdata = , rda = load(file, \n .                           envir = tmp_env), TXT = , txt = , tab = , \n .                           tab.gz = , tab.bz2 = , tab.xz = , txt.gz = , \n .                           txt.bz2 = , txt.xz = assign(name, my_read_table(file, \n .                             header = TRUE, as.is = FALSE), envir = tmp_env), \n .                           CSV = , csv = , csv.gz = , csv.bz2 = , \n .                           csv.xz = assign(name, my_read_table(file, \n .                             header = TRUE, sep = \";\", as.is = FALSE), \n .                             envir = tmp_env), found <- FALSE)\n .                       }\n .                       if (found) \n .                         break\n .                     }\n .                     if (verbose) \n .                       message(if (!found) \n .                         \"*NOT* \", \"found\", domain = NA)\n .                   }\n .                   if (found) \n .                     break\n .                 }\n .                 if (!found) {\n .                   warning(gettextf(\"data set %s not found\", sQuote(name)), \n .                     domain = NA)\n .                 }\n .                 else if (!overwrite) {\n .                   for (o in ls(envir = tmp_env, all.names = TRUE)) {\n .                     if (exists(o, envir = envir, inherits = FALSE)) \n .                       warning(gettextf(\"an object named %s already exists and will not be overwritten\", \n .                         sQuote(o)))\n .                     else assign(o, get(o, envir = tmp_env, inherits = FALSE), \n .                       envir = envir)\n .                   }\n .                   rm(tmp_env)\n .                 }\n .             }\n .             invisible(names)\n .         }), class = c(\"notSubsettableError\", \"error\", \"condition\"\n .     )))))"
     ]
    }
   ],
   "source": [
    "plot(density(data$trestbps))"
   ]
  },
  {
   "cell_type": "code",
   "execution_count": 10,
   "id": "44be9d67-dc38-4373-9c1b-3a042bfb86a1",
   "metadata": {},
   "outputs": [
    {
     "data": {
      "image/png": "[encoded data removed]",
      "text/plain": [
       "Plot with title \"density(x = data$chol)\""
      ]
     },
     "metadata": {
      "image/png": {
       "height": 420,
       "width": 420
      }
     },
     "output_type": "display_data"
    }
   ],
   "source": [
    "plot(density(data$chol))"
   ]
  },
  {
   "cell_type": "code",
   "execution_count": 11,
   "id": "2f974731-c09c-4081-a94e-4c1695435107",
   "metadata": {},
   "outputs": [
    {
     "data": {
      "image/png": "[encoded data removed]",
      "text/plain": [
       "Plot with title \"density(x = data$thalach)\""
      ]
     },
     "metadata": {
      "image/png": {
       "height": 420,
       "width": 420
      }
     },
     "output_type": "display_data"
    }
   ],
   "source": [
    "plot(density(data$thalach))"
   ]
  },
  {
   "cell_type": "code",
   "execution_count": 12,
   "id": "ef604be7-1e10-4c91-881d-2ad0a1785aa7",
   "metadata": {},
   "outputs": [
    {
     "data": {
      "image/png": "[encoded data removed]",
      "text/plain": [
       "Plot with title \"density(x = data$oldpeak)\""
      ]
     },
     "metadata": {
      "image/png": {
       "height": 420,
       "width": 420
      }
     },
     "output_type": "display_data"
    }
   ],
   "source": [
    "plot(density(data$oldpeak))"
   ]
  },
  {
   "cell_type": "code",
   "execution_count": 16,
   "id": "aa1bc772-c1e4-4a18-aac2-cddec41995c5",
   "metadata": {},
   "outputs": [],
   "source": [
    "data$cp <- as.factor(data$cp)"
   ]
  },
  {
   "cell_type": "code",
   "execution_count": 18,
   "id": "10274279-9707-420b-b542-8db9300c6189",
   "metadata": {},
   "outputs": [],
   "source": [
    "regressione_logestic=glm(data$target~.,data=data,family  = \"binomial\")"
   ]
  },
  {
   "cell_type": "code",
   "execution_count": 19,
   "id": "2d9f26e9-d509-4ffd-acbd-49bc7fcf3cbd",
   "metadata": {},
   "outputs": [
    {
     "data": {
      "text/plain": [
       "\n",
       "Call:  glm(formula = data$target ~ ., family = \"binomial\", data = data)\n",
       "\n",
       "Coefficients:\n",
       "(Intercept)          age          sex          cp1          cp2          cp3  \n",
       "   3.250789    -0.004039    -1.734184     1.192034     2.037023     2.161581  \n",
       "   trestbps         chol          fbs      restecg      thalach        exang  \n",
       "  -0.018199    -0.004870    -0.006010     0.442949     0.022482    -0.906075  \n",
       "    oldpeak        slope           ca         thal  \n",
       "  -0.508380     0.576876    -0.789302    -0.892066  \n",
       "\n",
       "Degrees of Freedom: 302 Total (i.e. Null);  287 Residual\n",
       "Null Deviance:\t    417.6 \n",
       "Residual Deviance: 209.7 \tAIC: 241.7"
      ]
     },
     "metadata": {},
     "output_type": "display_data"
    }
   ],
   "source": [
    "regressione_logestic"
   ]
  },
  {
   "cell_type": "code",
   "execution_count": 20,
   "id": "2078db15-9b93-4ef2-8150-7bb41d353719",
   "metadata": {},
   "outputs": [
    {
     "data": {
      "text/plain": [
       "\n",
       "Call:\n",
       "glm(formula = data$target ~ ., family = \"binomial\", data = data)\n",
       "\n",
       "Coefficients:\n",
       "             Estimate Std. Error z value Pr(>|z|)    \n",
       "(Intercept)  3.250789   2.575396   1.262 0.206860    \n",
       "age         -0.004039   0.023323  -0.173 0.862503    \n",
       "sex         -1.734184   0.472071  -3.674 0.000239 ***\n",
       "cp1          1.192034   0.543972   2.191 0.028426 *  \n",
       "cp2          2.037023   0.465348   4.377  1.2e-05 ***\n",
       "cp3          2.161581   0.632742   3.416 0.000635 ***\n",
       "trestbps    -0.018199   0.010333  -1.761 0.078195 .  \n",
       "chol        -0.004870   0.003832  -1.271 0.203790    \n",
       "fbs         -0.006010   0.539607  -0.011 0.991114    \n",
       "restecg      0.442949   0.350787   1.263 0.206686    \n",
       "thalach      0.022482   0.010490   2.143 0.032094 *  \n",
       "exang       -0.906075   0.416160  -2.177 0.029463 *  \n",
       "oldpeak     -0.508380   0.218811  -2.323 0.020159 *  \n",
       "slope        0.576876   0.354136   1.629 0.103321    \n",
       "ca          -0.789302   0.194404  -4.060  4.9e-05 ***\n",
       "thal        -0.892066   0.291525  -3.060 0.002213 ** \n",
       "---\n",
       "Signif. codes:  0 '***' 0.001 '**' 0.01 '*' 0.05 '.' 0.1 ' ' 1\n",
       "\n",
       "(Dispersion parameter for binomial family taken to be 1)\n",
       "\n",
       "    Null deviance: 417.64  on 302  degrees of freedom\n",
       "Residual deviance: 209.74  on 287  degrees of freedom\n",
       "AIC: 241.74\n",
       "\n",
       "Number of Fisher Scoring iterations: 6\n"
      ]
     },
     "metadata": {},
     "output_type": "display_data"
    }
   ],
   "source": [
    "summary(regressione_logestic)"
   ]
  },
  {
   "cell_type": "code",
   "execution_count": 23,
   "id": "cdeb9fba-7e56-4fca-88dc-ce9d4fc67edf",
   "metadata": {},
   "outputs": [],
   "source": [
    "OR <- exp(coef(regressione_logestic))"
   ]
  },
  {
   "cell_type": "code",
   "execution_count": 25,
   "id": "f7a69c14-04da-4a5f-b83e-06175f7fc739",
   "metadata": {
    "scrolled": true
   },
   "outputs": [
    {
     "data": {
      "text/html": [
       "<style>\n",
       ".dl-inline {width: auto; margin:0; padding: 0}\n",
       ".dl-inline>dt, .dl-inline>dd {float: none; width: auto; display: inline-block}\n",
       ".dl-inline>dt::after {content: \":\\0020\"; padding-right: .5ex}\n",
       ".dl-inline>dt:not(:first-of-type) {padding-left: .5ex}\n",
       "</style><dl class=dl-inline><dt>sex</dt><dd>0.176544250179733</dd><dt>exang</dt><dd>0.40410717300442</dd><dt>thal</dt><dd>0.409808174554654</dd><dt>ca</dt><dd>0.454161489460505</dd><dt>oldpeak</dt><dd>0.60146904653535</dd><dt>trestbps</dt><dd>0.981965735806563</dd><dt>fbs</dt><dd>0.994008242537251</dd><dt>chol</dt><dd>0.995142131114523</dd><dt>age</dt><dd>0.995968780346179</dd><dt>thalach</dt><dd>1.02273703057763</dd><dt>restecg</dt><dd>1.55729358883233</dd><dt>slope</dt><dd>1.78046713453223</dd><dt>cp1</dt><dd>3.29377500483059</dd><dt>cp2</dt><dd>7.66775211183183</dd><dt>cp3</dt><dd>8.68486066422001</dd><dt>(Intercept)</dt><dd>25.8106983987657</dd></dl>\n"
      ],
      "text/latex": [
       "\\begin{description*}\n",
       "\\item[sex] 0.176544250179733\n",
       "\\item[exang] 0.40410717300442\n",
       "\\item[thal] 0.409808174554654\n",
       "\\item[ca] 0.454161489460505\n",
       "\\item[oldpeak] 0.60146904653535\n",
       "\\item[trestbps] 0.981965735806563\n",
       "\\item[fbs] 0.994008242537251\n",
       "\\item[chol] 0.995142131114523\n",
       "\\item[age] 0.995968780346179\n",
       "\\item[thalach] 1.02273703057763\n",
       "\\item[restecg] 1.55729358883233\n",
       "\\item[slope] 1.78046713453223\n",
       "\\item[cp1] 3.29377500483059\n",
       "\\item[cp2] 7.66775211183183\n",
       "\\item[cp3] 8.68486066422001\n",
       "\\item[(Intercept)] 25.8106983987657\n",
       "\\end{description*}\n"
      ],
      "text/markdown": [
       "sex\n",
       ":   0.176544250179733exang\n",
       ":   0.40410717300442thal\n",
       ":   0.409808174554654ca\n",
       ":   0.454161489460505oldpeak\n",
       ":   0.60146904653535trestbps\n",
       ":   0.981965735806563fbs\n",
       ":   0.994008242537251chol\n",
       ":   0.995142131114523age\n",
       ":   0.995968780346179thalach\n",
       ":   1.02273703057763restecg\n",
       ":   1.55729358883233slope\n",
       ":   1.78046713453223cp1\n",
       ":   3.29377500483059cp2\n",
       ":   7.66775211183183cp3\n",
       ":   8.68486066422001(Intercept)\n",
       ":   25.8106983987657\n",
       "\n"
      ],
      "text/plain": [
       "        sex       exang        thal          ca     oldpeak    trestbps \n",
       "  0.1765443   0.4041072   0.4098082   0.4541615   0.6014690   0.9819657 \n",
       "        fbs        chol         age     thalach     restecg       slope \n",
       "  0.9940082   0.9951421   0.9959688   1.0227370   1.5572936   1.7804671 \n",
       "        cp1         cp2         cp3 (Intercept) \n",
       "  3.2937750   7.6677521   8.6848607  25.8106984 "
      ]
     },
     "metadata": {},
     "output_type": "display_data"
    }
   ],
   "source": [
    "sort(OR)"
   ]
  },
  {
   "cell_type": "code",
   "execution_count": 17,
   "id": "df08b770-3eb2-4c63-baf2-e4a9ee555a7b",
   "metadata": {},
   "outputs": [
    {
     "ename": "ERROR",
     "evalue": "Error in vif(regressione_logestic): could not find function \"vif\"\n",
     "output_type": "error",
     "traceback": [
      "Error in vif(regressione_logestic): could not find function \"vif\"\nTraceback:\n"
     ]
    }
   ],
   "source": [
    "vif(regressione_logestic)"
   ]
  },
  {
   "cell_type": "code",
   "execution_count": 19,
   "id": "0ca6327a-07de-4f0b-bbe4-1ace6ed05d89",
   "metadata": {},
   "outputs": [
    {
     "data": {
      "text/plain": [
       "\n",
       "Call:\n",
       "glm(formula = target ~ age + sex + cp + trestbps + chol + fbs + \n",
       "    restecg + thalach + exang + oldpeak + slope + ca + thal, \n",
       "    family = \"binomial\", data = data)\n",
       "\n",
       "Coefficients:\n",
       "             Estimate Std. Error z value Pr(>|z|)    \n",
       "(Intercept)  3.250789   2.575396   1.262 0.206860    \n",
       "age         -0.004039   0.023323  -0.173 0.862503    \n",
       "sex         -1.734184   0.472071  -3.674 0.000239 ***\n",
       "cp1          1.192034   0.543972   2.191 0.028426 *  \n",
       "cp2          2.037023   0.465348   4.377  1.2e-05 ***\n",
       "cp3          2.161581   0.632742   3.416 0.000635 ***\n",
       "trestbps    -0.018199   0.010333  -1.761 0.078195 .  \n",
       "chol        -0.004870   0.003832  -1.271 0.203790    \n",
       "fbs         -0.006010   0.539607  -0.011 0.991114    \n",
       "restecg      0.442949   0.350787   1.263 0.206686    \n",
       "thalach      0.022482   0.010490   2.143 0.032094 *  \n",
       "exang       -0.906075   0.416160  -2.177 0.029463 *  \n",
       "oldpeak     -0.508380   0.218811  -2.323 0.020159 *  \n",
       "slope        0.576876   0.354136   1.629 0.103321    \n",
       "ca          -0.789302   0.194404  -4.060  4.9e-05 ***\n",
       "thal        -0.892066   0.291525  -3.060 0.002213 ** \n",
       "---\n",
       "Signif. codes:  0 '***' 0.001 '**' 0.01 '*' 0.05 '.' 0.1 ' ' 1\n",
       "\n",
       "(Dispersion parameter for binomial family taken to be 1)\n",
       "\n",
       "    Null deviance: 417.64  on 302  degrees of freedom\n",
       "Residual deviance: 209.74  on 287  degrees of freedom\n",
       "AIC: 241.74\n",
       "\n",
       "Number of Fisher Scoring iterations: 6\n"
      ]
     },
     "metadata": {},
     "output_type": "display_data"
    }
   ],
   "source": [
    "model_inter <- glm(target ~ age + sex + cp + trestbps + chol + fbs +\n",
    "                   restecg + thalach + exang + oldpeak + slope + ca + thal,\n",
    "                   data = data, family = \"binomial\")\n",
    "\n",
    "summary(model_inter)"
   ]
  },
  {
   "cell_type": "code",
   "execution_count": 20,
   "id": "d37583c1-9594-44dc-85d5-7a0b54e69ff7",
   "metadata": {},
   "outputs": [
    {
     "data": {
      "text/html": [
       "0.17235809823067"
      ],
      "text/latex": [
       "0.17235809823067"
      ],
      "text/markdown": [
       "0.17235809823067"
      ],
      "text/plain": [
       "[1] 0.1723581"
      ]
     },
     "metadata": {},
     "output_type": "display_data"
    }
   ],
   "source": [
    "exp(-1.758181)"
   ]
  },
  {
   "cell_type": "code",
   "execution_count": 21,
   "id": "3677c185-afcf-4090-86ba-3e76639c1f75",
   "metadata": {},
   "outputs": [
    {
     "ename": "ERROR",
     "evalue": "Error in vif(model_inter): could not find function \"vif\"\n",
     "output_type": "error",
     "traceback": [
      "Error in vif(model_inter): could not find function \"vif\"\nTraceback:\n"
     ]
    }
   ],
   "source": [
    "vif(model_inter)\n",
    "vif (regressione_logestic)"
   ]
  },
  {
   "cell_type": "markdown",
   "id": "bd36a725-ff02-4372-9826-7188aac1bfca",
   "metadata": {},
   "source": [
    "# p-value and vif of age:sex is tooo large so we are going to use the normal regresione without ineraction term "
   ]
  },
  {
   "cell_type": "code",
   "execution_count": 22,
   "id": "bcf4c3f3-fd8e-476f-9f22-f4cf4e80e8cb",
   "metadata": {},
   "outputs": [
    {
     "data": {
      "text/plain": [
       "\n",
       "Call:\n",
       "glm(formula = target ~ poly(age, 2) + sex + cp + trestbps + chol + \n",
       "    fbs + restecg + thalach + exang + oldpeak + slope + ca + \n",
       "    thal, family = \"binomial\", data = data)\n",
       "\n",
       "Coefficients:\n",
       "               Estimate Std. Error z value Pr(>|z|)    \n",
       "(Intercept)    3.051450   2.149019   1.420 0.155629    \n",
       "poly(age, 2)1 -0.728365   3.697288  -0.197 0.843828    \n",
       "poly(age, 2)2  3.438346   3.439621   1.000 0.317490    \n",
       "sex           -1.717992   0.473603  -3.627 0.000286 ***\n",
       "cp1            1.199573   0.547137   2.192 0.028347 *  \n",
       "cp2            2.038316   0.467011   4.365 1.27e-05 ***\n",
       "cp3            2.106503   0.636003   3.312 0.000926 ***\n",
       "trestbps      -0.018307   0.010389  -1.762 0.078049 .  \n",
       "chol          -0.004988   0.003891  -1.282 0.199834    \n",
       "fbs            0.043276   0.538518   0.080 0.935950    \n",
       "restecg        0.436704   0.353005   1.237 0.216048    \n",
       "thalach        0.022789   0.010484   2.174 0.029733 *  \n",
       "exang         -0.908201   0.414737  -2.190 0.028537 *  \n",
       "oldpeak       -0.519188   0.220647  -2.353 0.018621 *  \n",
       "slope          0.558925   0.355144   1.574 0.115534    \n",
       "ca            -0.803140   0.196481  -4.088 4.36e-05 ***\n",
       "thal          -0.883525   0.290603  -3.040 0.002363 ** \n",
       "---\n",
       "Signif. codes:  0 '***' 0.001 '**' 0.01 '*' 0.05 '.' 0.1 ' ' 1\n",
       "\n",
       "(Dispersion parameter for binomial family taken to be 1)\n",
       "\n",
       "    Null deviance: 417.64  on 302  degrees of freedom\n",
       "Residual deviance: 208.72  on 286  degrees of freedom\n",
       "AIC: 242.72\n",
       "\n",
       "Number of Fisher Scoring iterations: 6\n"
      ]
     },
     "metadata": {},
     "output_type": "display_data"
    }
   ],
   "source": [
    "# مدل با اثر غیرخطی سن (درجه دوم)\n",
    "model_poly <- glm(target ~ poly(age, 2) + sex + cp + trestbps + chol +\n",
    "                  fbs + restecg + thalach + exang + oldpeak + slope + ca + thal,\n",
    "                  data = data, family = \"binomial\")\n",
    "summary(model_poly)\n"
   ]
  },
  {
   "cell_type": "code",
   "execution_count": 13,
   "id": "8eb21b6c-8188-45fb-ad72-c43136c81e9a",
   "metadata": {},
   "outputs": [
    {
     "ename": "ERROR",
     "evalue": "Error in model.frame.default(formula = target ~ ns(age, df = 3) + sex + : 'data' must be a data.frame, environment, or list\n",
     "output_type": "error",
     "traceback": [
      "Error in model.frame.default(formula = target ~ ns(age, df = 3) + sex + : 'data' must be a data.frame, environment, or list\nTraceback:\n",
      "1. eval(mf, parent.frame())",
      "2. eval(mf, parent.frame())",
      "3. stats::model.frame(formula = target ~ ns(age, df = 3) + sex + \n .     cp + trestbps + chol + fbs + restecg + thalach + exang + \n .     oldpeak + slope + ca + thal, data = data, drop.unused.levels = TRUE)",
      "4. model.frame.default(formula = target ~ ns(age, df = 3) + sex + \n .     cp + trestbps + chol + fbs + restecg + thalach + exang + \n .     oldpeak + slope + ca + thal, data = data, drop.unused.levels = TRUE)",
      "5. stop(\"'data' must be a data.frame, environment, or list\")",
      "6. .handleSimpleError(function (cnd) \n . {\n .     watcher$capture_plot_and_output()\n .     cnd <- sanitize_call(cnd)\n .     watcher$push(cnd)\n .     switch(on_error, continue = invokeRestart(\"eval_continue\"), \n .         stop = invokeRestart(\"eval_stop\"), error = invokeRestart(\"eval_error\", \n .             cnd))\n . }, \"'data' must be a data.frame, environment, or list\", base::quote(model.frame.default(formula = target ~ \n .     ns(age, df = 3) + sex + cp + trestbps + chol + fbs + restecg + \n .         thalach + exang + oldpeak + slope + ca + thal, data = data, \n .     drop.unused.levels = TRUE)))"
     ]
    }
   ],
   "source": [
    "library(splines)\n",
    "\n",
    "model_spline <- glm(target ~ ns(age, df = 3) + sex + cp + trestbps + chol +\n",
    "                    fbs + restecg + thalach + exang + oldpeak + slope + ca + thal,\n",
    "                    data = data, family = \"binomial\")\n",
    "summary(model_spline)\n"
   ]
  },
  {
   "cell_type": "code",
   "execution_count": 24,
   "id": "2c564260-0f3b-4b4a-843d-aebcdb52b945",
   "metadata": {},
   "outputs": [
    {
     "data": {
      "text/html": [
       "<strong>age:</strong> -27.0132041705241"
      ],
      "text/latex": [
       "\\textbf{age:} -27.0132041705241"
      ],
      "text/markdown": [
       "**age:** -27.0132041705241"
      ],
      "text/plain": [
       "     age \n",
       "-27.0132 "
      ]
     },
     "metadata": {},
     "output_type": "display_data"
    }
   ],
   "source": [
    "# مدل ساده: فقط سن\n",
    "model_simple <- glm(target ~ age, data = data, family = \"binomial\")\n",
    "\n",
    "# مدل تنظیم شده: سن + جنسیت\n",
    "model_adjusted <- glm(target ~ age + sex, data = data, family = \"binomial\")\n",
    "\n",
    "# ضرایب\n",
    "beta_simple <- coef(model_simple)[\"age\"]\n",
    "beta_adjusted <- coef(model_adjusted)[\"age\"]\n",
    "\n",
    "# درصد تغییر\n",
    "perc_change <- ((beta_simple - beta_adjusted) / beta_simple) * 100\n",
    "perc_change\n"
   ]
  },
  {
   "cell_type": "code",
   "execution_count": 25,
   "id": "d44cbbbf-520a-4f41-ae18-6b4f67df35e2",
   "metadata": {},
   "outputs": [
    {
     "name": "stderr",
     "output_type": "stream",
     "text": [
      "Waiting for profiling to be done...\n",
      "\n",
      "Waiting for profiling to be done...\n",
      "\n",
      "Waiting for profiling to be done...\n",
      "\n",
      "Waiting for profiling to be done...\n",
      "\n",
      "Waiting for profiling to be done...\n",
      "\n",
      "Waiting for profiling to be done...\n",
      "\n",
      "Waiting for profiling to be done...\n",
      "\n",
      "Waiting for profiling to be done...\n",
      "\n",
      "Waiting for profiling to be done...\n",
      "\n",
      "Waiting for profiling to be done...\n",
      "\n",
      "Waiting for profiling to be done...\n",
      "\n",
      "Waiting for profiling to be done...\n",
      "\n",
      "Waiting for profiling to be done...\n",
      "\n",
      "Waiting for profiling to be done...\n",
      "\n",
      "Waiting for profiling to be done...\n",
      "\n"
     ]
    },
    {
     "name": "stdout",
     "output_type": "stream",
     "text": [
      "\n",
      "--- Univariable Analysis ---\n",
      "        Variable         OR     CI_low    CI_high      p_value\n",
      "2.5 %        age  0.9489951 0.92339127  0.9741931 1.223017e-04\n",
      "2.5 %1       sex  0.2719298 0.15652372  0.4597383 2.009499e-06\n",
      "2.5 %2        cp 12.1481481 5.62344964 28.8298580 1.511894e-09\n",
      "2.5 %3  trestbps  0.9832135 0.96991096  0.9962164 1.281179e-02\n",
      "2.5 %4      chol  0.9966674 0.99214452  1.0010586 1.412265e-01\n",
      "2.5 %5       fbs  0.8540333 0.45201752  1.6166433 6.256378e-01\n",
      "2.5 %6   restecg  1.7011686 1.10107891  2.6476326 1.744534e-02\n",
      "2.5 %7   thalach  1.0449315 1.03214888  1.0589861 1.705915e-11\n",
      "2.5 %8     exang  0.1321349 0.07465841  0.2266843 7.817838e-13\n",
      "2.5 %9   oldpeak  0.3907793 0.29406257  0.5068450 1.212000e-11\n",
      "2.5 %10    slope  3.4162183 2.27050525  5.2573091 9.146606e-09\n",
      "2.5 %11       ca  0.4028072 0.29802400  0.5303689 5.604505e-10\n",
      "2.5 %12     thal  0.2748342 0.17464848  0.4220742 9.285235e-09\n",
      "\n",
      "--- Multivariable Analysis ---\n",
      "         Variable        OR     CI_low    CI_high      p_value\n",
      "age           age 0.9959416 0.95150374  1.0425141 8.608079e-01\n",
      "sex           sex 0.1764598 0.06688822  0.4270874 2.243113e-04\n",
      "cp1           cp1 3.2932004 1.17223961 10.0680144 2.839634e-02\n",
      "cp2           cp2 7.6603525 3.22133273 19.5314089 8.434138e-06\n",
      "cp3           cp3 8.6780681 2.63303797 31.6854614 5.893903e-04\n",
      "trestbps trestbps 0.9819536 0.96186934  1.0016467 7.627911e-02\n",
      "chol         chol 0.9951415 0.98765122  1.0028080 2.036838e-01\n",
      "restecg   restecg 1.5574249 0.78425362  3.1210176 2.064862e-01\n",
      "thalach   thalach 1.0227292 1.00245027  1.0446573 3.177439e-02\n",
      "exang       exang 0.4039642 0.17803985  0.9132856 2.892367e-02\n",
      "oldpeak   oldpeak 0.6016069 0.38652655  0.9125857 1.965668e-02\n",
      "slope       slope 1.7813483 0.88510278  3.5428755 1.003309e-01\n",
      "ca             ca 0.4540854 0.30588156  0.6573608 4.634821e-05\n",
      "thal         thal 0.4100502 0.23011529  0.7129355 1.873389e-03\n"
     ]
    }
   ],
   "source": [
    "predictors <- setdiff(names(data), \"target\")\n",
    "\n",
    "univ_results <- data.frame(\n",
    "  Variable = character(),\n",
    "  OR = numeric(),\n",
    "  CI_low = numeric(),\n",
    "  CI_high = numeric(),\n",
    "  p_value = numeric(),\n",
    "  stringsAsFactors = FALSE\n",
    ")\n",
    "\n",
    "for (var in predictors) {\n",
    "  f <- as.formula(paste(\"target ~\", var))\n",
    "  model <- glm(f, family = \"binomial\", data = data)\n",
    "  coef_summary <- summary(model)$coefficients\n",
    "  beta <- coef_summary[2, 1]                  # ضریب\n",
    "  se <- coef_summary[2, 2]                    # خطای استاندارد\n",
    "  p_val <- coef_summary[2, 4]                  # p-value\n",
    "  OR <- exp(beta)\n",
    "  CI <- exp(confint(model))[2, ]               # بازه اطمینان 95%\n",
    "  \n",
    "  univ_results <- rbind(univ_results, data.frame(\n",
    "    Variable = var,\n",
    "    OR = OR,\n",
    "    CI_low = CI[1],\n",
    "    CI_high = CI[2],\n",
    "    p_value = p_val\n",
    "  ))\n",
    "}\n",
    "\n",
    "vars_selected <- univ_results$Variable[univ_results$p_value < 0.2]\n",
    "\n",
    "formula_multi <- as.formula(paste(\"target ~\", paste(vars_selected, collapse = \" + \")))\n",
    "multi_model <- glm(formula_multi, family = \"binomial\", data = data)\n",
    "\n",
    "multi_coef <- summary(multi_model)$coefficients\n",
    "multi_results <- data.frame(\n",
    "  Variable = rownames(multi_coef)[-1],\n",
    "  OR = exp(multi_coef[-1, 1]),\n",
    "  CI_low = exp(confint(multi_model))[-1, 1],\n",
    "  CI_high = exp(confint(multi_model))[-1, 2],\n",
    "  p_value = multi_coef[-1, 4]\n",
    ")\n",
    "\n",
    "cat(\"\\n--- Univariable Analysis ---\\n\")\n",
    "print(univ_results)\n",
    "\n",
    "cat(\"\\n--- Multivariable Analysis ---\\n\")\n",
    "print(multi_results)\n"
   ]
  },
  {
   "cell_type": "code",
   "execution_count": 26,
   "id": "079bd04d-0999-4e9d-8941-8ce391f63c0f",
   "metadata": {},
   "outputs": [],
   "source": [
    "data$cp <- as.factor(data$cp)"
   ]
  },
  {
   "cell_type": "code",
   "execution_count": 27,
   "id": "2a74971a-05e7-4136-930d-ae64f1a79186",
   "metadata": {},
   "outputs": [],
   "source": [
    "age=glm(data$target~data$age,family=\"binomial\")"
   ]
  },
  {
   "cell_type": "code",
   "execution_count": 28,
   "id": "db807a82-1827-402b-b21e-cec88899b39e",
   "metadata": {},
   "outputs": [
    {
     "data": {
      "text/plain": [
       "\n",
       "Call:\n",
       "glm(formula = data$target ~ data$age, family = \"binomial\")\n",
       "\n",
       "Coefficients:\n",
       "            Estimate Std. Error z value Pr(>|z|)    \n",
       "(Intercept)  3.03623    0.75639   4.014 5.97e-05 ***\n",
       "data$age    -0.05235    0.01363  -3.841 0.000122 ***\n",
       "---\n",
       "Signif. codes:  0 '***' 0.001 '**' 0.01 '*' 0.05 '.' 0.1 ' ' 1\n",
       "\n",
       "(Dispersion parameter for binomial family taken to be 1)\n",
       "\n",
       "    Null deviance: 417.64  on 302  degrees of freedom\n",
       "Residual deviance: 401.86  on 301  degrees of freedom\n",
       "AIC: 405.86\n",
       "\n",
       "Number of Fisher Scoring iterations: 4\n"
      ]
     },
     "metadata": {},
     "output_type": "display_data"
    }
   ],
   "source": [
    "summary(age)"
   ]
  },
  {
   "cell_type": "code",
   "execution_count": 29,
   "id": "01aa339a-478a-4c1b-a442-579654ccc095",
   "metadata": {},
   "outputs": [
    {
     "data": {
      "text/plain": [
       "\n",
       "Call:\n",
       "glm(formula = data$target ~ data$sex, family = \"binomial\")\n",
       "\n",
       "Coefficients:\n",
       "            Estimate Std. Error z value Pr(>|z|)    \n",
       "(Intercept)   1.0986     0.2357   4.661 3.15e-06 ***\n",
       "data$sex     -1.3022     0.2740  -4.752 2.01e-06 ***\n",
       "---\n",
       "Signif. codes:  0 '***' 0.001 '**' 0.01 '*' 0.05 '.' 0.1 ' ' 1\n",
       "\n",
       "(Dispersion parameter for binomial family taken to be 1)\n",
       "\n",
       "    Null deviance: 417.64  on 302  degrees of freedom\n",
       "Residual deviance: 392.80  on 301  degrees of freedom\n",
       "AIC: 396.8\n",
       "\n",
       "Number of Fisher Scoring iterations: 4\n"
      ]
     },
     "metadata": {},
     "output_type": "display_data"
    }
   ],
   "source": [
    "sex=glm(data$target~data$sex,family=\"binomial\")\n",
    "summary(sex)"
   ]
  },
  {
   "cell_type": "code",
   "execution_count": 30,
   "id": "0fabe4b4-7b57-45d2-828f-430b0a93d203",
   "metadata": {},
   "outputs": [
    {
     "data": {
      "text/plain": [
       "\n",
       "Call:\n",
       "glm(formula = data$target ~ data$cp, family = \"binomial\")\n",
       "\n",
       "Coefficients:\n",
       "            Estimate Std. Error z value Pr(>|z|)    \n",
       "(Intercept)  -0.9808     0.1878  -5.224 1.75e-07 ***\n",
       "data$cp1      2.4972     0.4132   6.043 1.51e-09 ***\n",
       "data$cp2      2.3246     0.3245   7.163 7.87e-13 ***\n",
       "data$cp3      1.8075     0.4905   3.685 0.000229 ***\n",
       "---\n",
       "Signif. codes:  0 '***' 0.001 '**' 0.01 '*' 0.05 '.' 0.1 ' ' 1\n",
       "\n",
       "(Dispersion parameter for binomial family taken to be 1)\n",
       "\n",
       "    Null deviance: 417.64  on 302  degrees of freedom\n",
       "Residual deviance: 331.70  on 299  degrees of freedom\n",
       "AIC: 339.7\n",
       "\n",
       "Number of Fisher Scoring iterations: 4\n"
      ]
     },
     "metadata": {},
     "output_type": "display_data"
    }
   ],
   "source": [
    "cp=glm(data$target~data$cp,family=\"binomial\")\n",
    "summary(cp)"
   ]
  },
  {
   "cell_type": "code",
   "execution_count": 31,
   "id": "8ac76100-af8e-4586-a597-c681d77ea7fc",
   "metadata": {},
   "outputs": [
    {
     "data": {
      "text/plain": [
       "\n",
       "Call:\n",
       "glm(formula = data$target ~ data$trestbps, family = \"binomial\")\n",
       "\n",
       "Coefficients:\n",
       "               Estimate Std. Error z value Pr(>|z|)   \n",
       "(Intercept)    2.409327   0.904136   2.665   0.0077 **\n",
       "data$trestbps -0.016929   0.006802  -2.489   0.0128 * \n",
       "---\n",
       "Signif. codes:  0 '***' 0.001 '**' 0.01 '*' 0.05 '.' 0.1 ' ' 1\n",
       "\n",
       "(Dispersion parameter for binomial family taken to be 1)\n",
       "\n",
       "    Null deviance: 417.64  on 302  degrees of freedom\n",
       "Residual deviance: 411.22  on 301  degrees of freedom\n",
       "AIC: 415.22\n",
       "\n",
       "Number of Fisher Scoring iterations: 4\n"
      ]
     },
     "metadata": {},
     "output_type": "display_data"
    }
   ],
   "source": [
    "trestbps=glm(data$target~data$trestbps,family=\"binomial\")\n",
    "summary(trestbps)"
   ]
  },
  {
   "cell_type": "code",
   "execution_count": 32,
   "id": "8cd52323-dfa0-4098-b626-732f24f96884",
   "metadata": {},
   "outputs": [
    {
     "data": {
      "text/plain": [
       "\n",
       "Call:\n",
       "glm(formula = data$target ~ data$chol, family = \"binomial\")\n",
       "\n",
       "Coefficients:\n",
       "             Estimate Std. Error z value Pr(>|z|)  \n",
       "(Intercept)  1.001617   0.571467   1.753   0.0797 .\n",
       "data$chol   -0.003338   0.002269  -1.471   0.1412  \n",
       "---\n",
       "Signif. codes:  0 '***' 0.001 '**' 0.01 '*' 0.05 '.' 0.1 ' ' 1\n",
       "\n",
       "(Dispersion parameter for binomial family taken to be 1)\n",
       "\n",
       "    Null deviance: 417.64  on 302  degrees of freedom\n",
       "Residual deviance: 415.43  on 301  degrees of freedom\n",
       "AIC: 419.43\n",
       "\n",
       "Number of Fisher Scoring iterations: 4\n"
      ]
     },
     "metadata": {},
     "output_type": "display_data"
    }
   ],
   "source": [
    "chol=glm(data$target~data$chol,family=\"binomial\")\n",
    "summary(chol)"
   ]
  },
  {
   "cell_type": "code",
   "execution_count": 33,
   "id": "e8babfb3-acb5-4277-a284-46121386b369",
   "metadata": {},
   "outputs": [
    {
     "data": {
      "text/plain": [
       "\n",
       "Call:\n",
       "glm(formula = data$target ~ data$restecg, family = \"binomial\")\n",
       "\n",
       "Coefficients:\n",
       "             Estimate Std. Error z value Pr(>|z|)  \n",
       "(Intercept)  -0.09814    0.16353  -0.600   0.5484  \n",
       "data$restecg  0.53132    0.22351   2.377   0.0174 *\n",
       "---\n",
       "Signif. codes:  0 '***' 0.001 '**' 0.01 '*' 0.05 '.' 0.1 ' ' 1\n",
       "\n",
       "(Dispersion parameter for binomial family taken to be 1)\n",
       "\n",
       "    Null deviance: 417.64  on 302  degrees of freedom\n",
       "Residual deviance: 411.90  on 301  degrees of freedom\n",
       "AIC: 415.9\n",
       "\n",
       "Number of Fisher Scoring iterations: 4\n"
      ]
     },
     "metadata": {},
     "output_type": "display_data"
    }
   ],
   "source": [
    "restecg=glm(data$target~data$restecg,family=\"binomial\")\n",
    "summary(restecg)"
   ]
  },
  {
   "cell_type": "code",
   "execution_count": 34,
   "id": "8ff1bb2f-3c5a-4119-9f35-16ea2c1a30d4",
   "metadata": {},
   "outputs": [
    {
     "data": {
      "text/plain": [
       "\n",
       "Call:\n",
       "glm(formula = data$target ~ data$thalach, family = \"binomial\")\n",
       "\n",
       "Coefficients:\n",
       "              Estimate Std. Error z value Pr(>|z|)    \n",
       "(Intercept)  -6.391452   0.987133  -6.475 9.50e-11 ***\n",
       "data$thalach  0.043951   0.006531   6.729 1.71e-11 ***\n",
       "---\n",
       "Signif. codes:  0 '***' 0.001 '**' 0.01 '*' 0.05 '.' 0.1 ' ' 1\n",
       "\n",
       "(Dispersion parameter for binomial family taken to be 1)\n",
       "\n",
       "    Null deviance: 417.64  on 302  degrees of freedom\n",
       "Residual deviance: 359.26  on 301  degrees of freedom\n",
       "AIC: 363.26\n",
       "\n",
       "Number of Fisher Scoring iterations: 4\n"
      ]
     },
     "metadata": {},
     "output_type": "display_data"
    }
   ],
   "source": [
    "thalach=glm(data$target~data$thalach,family=\"binomial\")\n",
    "summary(thalach)"
   ]
  },
  {
   "cell_type": "code",
   "execution_count": 35,
   "id": "183010cb-1f7b-4c19-a26c-0840f4df52f2",
   "metadata": {},
   "outputs": [
    {
     "data": {
      "text/plain": [
       "\n",
       "Call:\n",
       "glm(formula = data$target ~ data$exang, family = \"binomial\")\n",
       "\n",
       "Coefficients:\n",
       "            Estimate Std. Error z value Pr(>|z|)    \n",
       "(Intercept)   0.8287     0.1522   5.444 5.21e-08 ***\n",
       "data$exang   -2.0239     0.2825  -7.164 7.82e-13 ***\n",
       "---\n",
       "Signif. codes:  0 '***' 0.001 '**' 0.01 '*' 0.05 '.' 0.1 ' ' 1\n",
       "\n",
       "(Dispersion parameter for binomial family taken to be 1)\n",
       "\n",
       "    Null deviance: 417.64  on 302  degrees of freedom\n",
       "Residual deviance: 357.90  on 301  degrees of freedom\n",
       "AIC: 361.9\n",
       "\n",
       "Number of Fisher Scoring iterations: 4\n"
      ]
     },
     "metadata": {},
     "output_type": "display_data"
    }
   ],
   "source": [
    "exang=glm(data$target~data$exang,family=\"binomial\")\n",
    "summary(exang)"
   ]
  },
  {
   "cell_type": "code",
   "execution_count": 36,
   "id": "d816ae45-53d5-47b3-9dff-7d13e9746637",
   "metadata": {},
   "outputs": [
    {
     "data": {
      "text/plain": [
       "\n",
       "Call:\n",
       "glm(formula = data$target ~ data$oldpeak, family = \"binomial\")\n",
       "\n",
       "Coefficients:\n",
       "             Estimate Std. Error z value Pr(>|z|)    \n",
       "(Intercept)    1.1177     0.1810   6.177 6.55e-10 ***\n",
       "data$oldpeak  -0.9396     0.1386  -6.779 1.21e-11 ***\n",
       "---\n",
       "Signif. codes:  0 '***' 0.001 '**' 0.01 '*' 0.05 '.' 0.1 ' ' 1\n",
       "\n",
       "(Dispersion parameter for binomial family taken to be 1)\n",
       "\n",
       "    Null deviance: 417.64  on 302  degrees of freedom\n",
       "Residual deviance: 355.00  on 301  degrees of freedom\n",
       "AIC: 359\n",
       "\n",
       "Number of Fisher Scoring iterations: 4\n"
      ]
     },
     "metadata": {},
     "output_type": "display_data"
    }
   ],
   "source": [
    "oldpeak=glm(data$target~data$oldpeak,family=\"binomial\")\n",
    "summary(oldpeak)"
   ]
  },
  {
   "cell_type": "code",
   "execution_count": 37,
   "id": "544577b9-36ed-4c3f-a4e2-7532ae801378",
   "metadata": {},
   "outputs": [
    {
     "data": {
      "text/plain": [
       "\n",
       "Call:\n",
       "glm(formula = data$target ~ data$slope, family = \"binomial\")\n",
       "\n",
       "Coefficients:\n",
       "            Estimate Std. Error z value Pr(>|z|)    \n",
       "(Intercept)  -1.5301     0.3216  -4.758 1.95e-06 ***\n",
       "data$slope    1.2285     0.2138   5.746 9.15e-09 ***\n",
       "---\n",
       "Signif. codes:  0 '***' 0.001 '**' 0.01 '*' 0.05 '.' 0.1 ' ' 1\n",
       "\n",
       "(Dispersion parameter for binomial family taken to be 1)\n",
       "\n",
       "    Null deviance: 417.64  on 302  degrees of freedom\n",
       "Residual deviance: 379.94  on 301  degrees of freedom\n",
       "AIC: 383.94\n",
       "\n",
       "Number of Fisher Scoring iterations: 4\n"
      ]
     },
     "metadata": {},
     "output_type": "display_data"
    }
   ],
   "source": [
    "slope=glm(data$target~data$slope,family=\"binomial\")\n",
    "summary(slope)"
   ]
  },
  {
   "cell_type": "code",
   "execution_count": 38,
   "id": "4dbce49b-d17e-4716-ad2d-e1e6d4f196d0",
   "metadata": {},
   "outputs": [
    {
     "data": {
      "text/plain": [
       "\n",
       "Call:\n",
       "glm(formula = data$target ~ data$ca, family = \"binomial\")\n",
       "\n",
       "Coefficients:\n",
       "            Estimate Std. Error z value Pr(>|z|)    \n",
       "(Intercept)   0.8099     0.1544   5.247 1.54e-07 ***\n",
       "data$ca      -0.9093     0.1466  -6.201 5.60e-10 ***\n",
       "---\n",
       "Signif. codes:  0 '***' 0.001 '**' 0.01 '*' 0.05 '.' 0.1 ' ' 1\n",
       "\n",
       "(Dispersion parameter for binomial family taken to be 1)\n",
       "\n",
       "    Null deviance: 417.64  on 302  degrees of freedom\n",
       "Residual deviance: 367.63  on 301  degrees of freedom\n",
       "AIC: 371.63\n",
       "\n",
       "Number of Fisher Scoring iterations: 4\n"
      ]
     },
     "metadata": {},
     "output_type": "display_data"
    }
   ],
   "source": [
    "ca=glm(data$target~data$ca,family=\"binomial\")\n",
    "summary(ca)"
   ]
  },
  {
   "cell_type": "code",
   "execution_count": 39,
   "id": "d40d0308-9cc9-490e-b67c-3254d8f98eb2",
   "metadata": {},
   "outputs": [
    {
     "data": {
      "text/plain": [
       "\n",
       "Call:\n",
       "glm(formula = data$target ~ data$thal, family = \"binomial\")\n",
       "\n",
       "Coefficients:\n",
       "            Estimate Std. Error z value Pr(>|z|)    \n",
       "(Intercept)   3.2016     0.5456   5.869 4.40e-09 ***\n",
       "data$thal    -1.2916     0.2249  -5.743 9.29e-09 ***\n",
       "---\n",
       "Signif. codes:  0 '***' 0.001 '**' 0.01 '*' 0.05 '.' 0.1 ' ' 1\n",
       "\n",
       "(Dispersion parameter for binomial family taken to be 1)\n",
       "\n",
       "    Null deviance: 417.64  on 302  degrees of freedom\n",
       "Residual deviance: 379.14  on 301  degrees of freedom\n",
       "AIC: 383.14\n",
       "\n",
       "Number of Fisher Scoring iterations: 4\n"
      ]
     },
     "metadata": {},
     "output_type": "display_data"
    }
   ],
   "source": [
    "thal=glm(data$target~data$thal,family=\"binomial\")\n",
    "summary(thal)"
   ]
  },
  {
   "cell_type": "code",
   "execution_count": 40,
   "id": "a8c669c1-7072-41d8-a6cf-4b6d15ccfebb",
   "metadata": {},
   "outputs": [
    {
     "name": "stderr",
     "output_type": "stream",
     "text": [
      "The following objects are masked _by_ .GlobalEnv:\n",
      "\n",
      "    age, ca, chol, cp, exang, oldpeak, restecg, sex, slope, thal,\n",
      "    thalach, trestbps\n",
      "\n",
      "\n"
     ]
    }
   ],
   "source": [
    "attach(data)"
   ]
  },
  {
   "cell_type": "code",
   "execution_count": 41,
   "id": "f606f561-adc6-4a2b-adb1-2d72cee83f89",
   "metadata": {},
   "outputs": [],
   "source": [
    "full_fit <- glm(\n",
    "  target ~ age + sex + cp + thalach + exang + oldpeak + slope + ca + thal,\n",
    "  family = \"binomial\",\n",
    "  data = data\n",
    ")\n"
   ]
  },
  {
   "cell_type": "code",
   "execution_count": 42,
   "id": "2ab9cf98-dcd5-4d85-b93d-6b98cb51862f",
   "metadata": {},
   "outputs": [
    {
     "data": {
      "text/plain": [
       "\n",
       "Call:\n",
       "glm(formula = target ~ age + sex + cp + thalach + exang + oldpeak + \n",
       "    slope + ca + thal, family = \"binomial\", data = data)\n",
       "\n",
       "Coefficients:\n",
       "            Estimate Std. Error z value Pr(>|z|)    \n",
       "(Intercept)  1.67880    2.30670   0.728 0.466739    \n",
       "age         -0.02204    0.02164  -1.019 0.308429    \n",
       "sex         -1.53820    0.43130  -3.566 0.000362 ***\n",
       "cp1          1.14918    0.53262   2.158 0.030960 *  \n",
       "cp2          2.00141    0.44570   4.491 7.10e-06 ***\n",
       "cp3          1.96186    0.61440   3.193 0.001407 ** \n",
       "thalach      0.01644    0.00974   1.688 0.091440 .  \n",
       "exang       -0.95053    0.40018  -2.375 0.017537 *  \n",
       "oldpeak     -0.52642    0.21088  -2.496 0.012550 *  \n",
       "slope        0.58937    0.34314   1.718 0.085871 .  \n",
       "ca          -0.75162    0.18841  -3.989 6.63e-05 ***\n",
       "thal        -0.88855    0.27458  -3.236 0.001212 ** \n",
       "---\n",
       "Signif. codes:  0 '***' 0.001 '**' 0.01 '*' 0.05 '.' 0.1 ' ' 1\n",
       "\n",
       "(Dispersion parameter for binomial family taken to be 1)\n",
       "\n",
       "    Null deviance: 417.64  on 302  degrees of freedom\n",
       "Residual deviance: 217.02  on 291  degrees of freedom\n",
       "AIC: 241.02\n",
       "\n",
       "Number of Fisher Scoring iterations: 6\n"
      ]
     },
     "metadata": {},
     "output_type": "display_data"
    }
   ],
   "source": [
    "summary(full_fit)"
   ]
  },
  {
   "cell_type": "code",
   "execution_count": 1,
   "id": "d3f7b572-03bc-45ed-b14c-ca361efa39f6",
   "metadata": {},
   "outputs": [
    {
     "ename": "ERROR",
     "evalue": "Error: object 'full_fit' not found\n",
     "output_type": "error",
     "traceback": [
      "Error: object 'full_fit' not found\nTraceback:\n",
      "1. .handleSimpleError(function (cnd) \n . {\n .     watcher$capture_plot_and_output()\n .     cnd <- sanitize_call(cnd)\n .     watcher$push(cnd)\n .     switch(on_error, continue = invokeRestart(\"eval_continue\"), \n .         stop = invokeRestart(\"eval_stop\"), error = invokeRestart(\"eval_error\", \n .             cnd))\n . }, \"object 'full_fit' not found\", base::quote(eval(expr, envir)))"
     ]
    }
   ],
   "source": [
    "OR <- exp(coef(full_fit))"
   ]
  },
  {
   "cell_type": "code",
   "execution_count": 43,
   "id": "a2bf6324-e60f-436a-acd9-1e2c1ba111f3",
   "metadata": {},
   "outputs": [
    {
     "ename": "ERROR",
     "evalue": "Error in vif(full_fit): could not find function \"vif\"\n",
     "output_type": "error",
     "traceback": [
      "Error in vif(full_fit): could not find function \"vif\"\nTraceback:\n"
     ]
    }
   ],
   "source": [
    "vif(full_fit)"
   ]
  },
  {
   "cell_type": "code",
   "execution_count": 45,
   "id": "e46a1418-abd5-4614-95bf-53e9d6648b98",
   "metadata": {},
   "outputs": [
    {
     "name": "stderr",
     "output_type": "stream",
     "text": [
      "Warning message:\n",
      "\"package 'margins' was built under R version 4.4.3\"\n"
     ]
    },
    {
     "name": "stdout",
     "output_type": "stream",
     "text": [
      "  Variable      VIF          AME          SE         z            p\n",
      "1      age 1.257268 -0.002655066 0.002429539 -1.092827 2.744696e-01\n",
      "2       ca 1.080564 -0.083303063 0.018945833 -4.396907 1.098044e-05\n",
      "3       cp 1.201187  0.093385493 0.017572458  5.314310 1.070621e-07\n",
      "4    exang 1.115651 -0.115948396 0.042914213 -2.701865 6.895182e-03\n",
      "5  oldpeak 1.402273 -0.065171323 0.022151734 -2.942042 3.260561e-03\n",
      "6      sex 1.170267 -0.176316031 0.045124053 -3.907362 9.330912e-05\n",
      "7    slope 1.477116  0.065934567 0.038030313  1.733737 8.296473e-02\n",
      "8     thal 1.028964 -0.101808205 0.029035690 -3.506313 4.543614e-04\n",
      "9  thalach 1.351658  0.001933240 0.001077283  1.794552 7.272517e-02\n"
     ]
    }
   ],
   "source": [
    "\n",
    "library(car) \n",
    "library(margins)\n",
    "\n",
    "\n",
    "# محاسبه VIF\n",
    "vif_values <- vif(full_fit)\n",
    "vif_table <- data.frame(Variable = names(vif_values),\n",
    "                        VIF = as.numeric(vif_values))\n",
    "\n",
    "# محاسبه اثرات جزئی (Marginal Effects)\n",
    "marginal_effects <- margins(full_fit)\n",
    "me_table <- summary(marginal_effects)[, c(\"factor\", \"AME\", \"SE\", \"z\", \"p\")]\n",
    "\n",
    "# ادغام نتایج در یک جدول\n",
    "final_table <- merge(vif_table, me_table, by.x = \"Variable\", by.y = \"factor\", all.x = TRUE)\n",
    "\n",
    "# نمایش جدول نهایی\n",
    "print(final_table)\n"
   ]
  },
  {
   "cell_type": "code",
   "execution_count": 47,
   "id": "d57c9175-636f-45ff-b9bd-7fb038c1a9fd",
   "metadata": {},
   "outputs": [
    {
     "data": {
      "text/html": [
       "2.58708044866237"
      ],
      "text/latex": [
       "2.58708044866237"
      ],
      "text/markdown": [
       "2.58708044866237"
      ],
      "text/plain": [
       "[1] 2.58708"
      ]
     },
     "metadata": {},
     "output_type": "display_data"
    }
   ],
   "source": [
    "exp(0.95053    )"
   ]
  },
  {
   "cell_type": "code",
   "execution_count": 48,
   "id": "96d79528-f592-4586-a92e-647d21ab6b91",
   "metadata": {},
   "outputs": [
    {
     "data": {
      "text/html": [
       "0.386536105020253"
      ],
      "text/latex": [
       "0.386536105020253"
      ],
      "text/markdown": [
       "0.386536105020253"
      ],
      "text/plain": [
       "[1] 0.3865361"
      ]
     },
     "metadata": {},
     "output_type": "display_data"
    }
   ],
   "source": [
    "1/2.58708044866237"
   ]
  },
  {
   "cell_type": "code",
   "execution_count": null,
   "id": "f40d2f13-4e6c-4fc7-9650-669cc714f89a",
   "metadata": {},
   "outputs": [],
   "source": []
  }
 ],
 "metadata": {
  "kernelspec": {
   "display_name": "R",
   "language": "R",
   "name": "ir"
  },
  "language_info": {
   "codemirror_mode": "r",
   "file_extension": ".r",
   "mimetype": "text/x-r-source",
   "name": "R",
   "pygments_lexer": "r",
   "version": "4.4.1"
  }
 },
 "nbformat": 4,
 "nbformat_minor": 5
}
